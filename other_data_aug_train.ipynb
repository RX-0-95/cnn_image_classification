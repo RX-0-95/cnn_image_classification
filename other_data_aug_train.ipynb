{
 "metadata": {
  "language_info": {
   "codemirror_mode": {
    "name": "ipython",
    "version": 3
   },
   "file_extension": ".py",
   "mimetype": "text/x-python",
   "name": "python",
   "nbconvert_exporter": "python",
   "pygments_lexer": "ipython3",
   "version": 3
  },
  "orig_nbformat": 2
 },
 "nbformat": 4,
 "nbformat_minor": 2,
 "cells": [
  {
   "cell_type": "code",
   "execution_count": null,
   "metadata": {},
   "outputs": [],
   "source": [
    "import os\n",
    "import logging\n",
    "logging.getLogger('tensorflow').disabled = True\n",
    "\n",
    "try:\n",
    "    os.chdir('cifar-vs-tensorflow2')\n",
    "except:\n",
    "    pass\n",
    "\n",
    "import numpy as np\n",
    "import tensorflow as tf\n",
    "import tensorflow_datasets as tfds\n",
    "if not tf.test.is_gpu_available():\n",
    "    print(\"GPU is not available, change Runtime!\")\n",
    "\n",
    "import matplotlib.pyplot as plt\n",
    "from tqdm import tqdm, tqdm_notebook\n",
    "from tensorflow.keras.utils import plot_model\n",
    "from solver import Solver\n",
    "from cnn_model import *\n",
    "import resent2 \n"
   ]
  },
  {
   "cell_type": "code",
   "execution_count": null,
   "metadata": {},
   "outputs": [],
   "source": [
    "ds = tfds.load('cifar10', as_supervised=True)\n",
    "std = tf.reshape((0.2023, 0.1994, 0.2010), shape=(1, 1, 3))\n",
    "mean= tf.reshape((0.4914, 0.4822, 0.4465), shape=(1, 1, 3))\n",
    "\n",
    "def train_prep(x, y):\n",
    "    x = tf.cast(x, tf.float32)/255.\n",
    "    x = tf.image.random_flip_left_right(x)\n",
    "    x = tf.image.pad_to_bounding_box(x, 4, 4, 40, 40)\n",
    "    x = tf.image.random_crop(x, (32, 32, 3))\n",
    "    x = (x - mean) / std\n",
    "    return x, y\n",
    "\n",
    "def valid_prep(x, y):\n",
    "    x = tf.cast(x, tf.float32)/255.\n",
    "    x = (x - mean) / std\n",
    "    return x, y\n",
    "\n",
    "ds['train'] = ds['train'].map(train_prep).shuffle(5000).repeat().batch(128).prefetch(-1)\n",
    "ds['test'] = ds['test'].map(valid_prep).batch(512).prefetch(-1)"
   ]
  },
  {
   "cell_type": "code",
   "execution_count": null,
   "metadata": {},
   "outputs": [],
   "source": [
    "model = resent2.cifar_resnet20('preactivated', shortcut_type='B')\n",
    "training_steps = 64000\n",
    "validation_interval = 2000\n",
    "\n",
    "model.fit_generator(ds['train'], steps_per_epoch=validation_interval, epochs=training_steps//validation_interval, validation_data=ds['test'], workers=4)"
   ]
  }
 ]
}