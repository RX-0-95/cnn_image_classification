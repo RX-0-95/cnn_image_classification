{
 "metadata": {
  "language_info": {
   "codemirror_mode": {
    "name": "ipython",
    "version": 3
   },
   "file_extension": ".py",
   "mimetype": "text/x-python",
   "name": "python",
   "nbconvert_exporter": "python",
   "pygments_lexer": "ipython3",
   "version": "3.8.10"
  },
  "orig_nbformat": 2,
  "kernelspec": {
   "name": "python3810jvsc74a57bd01e176acbd42c1e3e7f101af43ec62a5c4debfebb92accde047567277d89b2ce2",
   "display_name": "Python 3.8.10 64-bit ('tf-gpu': conda)"
  }
 },
 "nbformat": 4,
 "nbformat_minor": 2,
 "cells": [
  {
   "cell_type": "code",
   "execution_count": 28,
   "metadata": {},
   "outputs": [
    {
     "output_type": "stream",
     "name": "stdout",
     "text": [
      "The autoreload extension is already loaded. To reload it, use:\n",
      "  %reload_ext autoreload\n",
      "Train data shape:  (49000, 32, 32, 3)\n",
      "Train labels shape:  (49000,) int64\n",
      "Validation data shape:  (1000, 32, 32, 3)\n",
      "Validation labels shape:  (1000,)\n",
      "Test data shape:  (10000, 32, 32, 3)\n",
      "Test labels shape:  (10000,)\n"
     ]
    }
   ],
   "source": [
    "import gzip, shutil\n",
    "import os \n",
    "import data_utils as du \n",
    "import tensorflow as tf \n",
    "from tensorflow import keras \n",
    "import numpy as np \n",
    "from six.moves import cPickle as pickle\n",
    "import numpy as np\n",
    "import os\n",
    "from matplotlib.pyplot import imread\n",
    "import matplotlib.pyplot as plt \n",
    "import platform\n",
    "import data_utils as du \n",
    "from cnn_model import *\n",
    "from solver import Solver\n",
    "import qunatize_resnet20 as q_res\n",
    "import quantize_layers as ql\n",
    "import tensorflow_hub as hub \n",
    "import quantize_util as qu \n",
    "import quantize_complier as qc \n",
    "\n",
    "\n",
    "%load_ext autoreload\n",
    "%autoreload 2\n",
    "%matplotlib inline\n",
    "%reload_ext autoreload\n",
    "plt.rcParams['figure.figsize'] = (15.0, 15.0) # set default size of plots\n",
    "plt.rcParams['image.interpolation'] = 'nearest'\n",
    "plt.rcParams['image.cmap'] = 'gray'\n",
    "\n",
    "Data_folder = 'CIFAR10_Data'\n",
    "Data_fn = 'cifar-10-python'\n",
    "X_train, y_train, X_val, y_val, X_test, y_test = du.get_CIFAR10_data(subtract_mean =True)\n",
    "print('Train data shape: ', X_train.shape)\n",
    "print('Train labels shape: ', y_train.shape, y_train.dtype)\n",
    "print('Validation data shape: ', X_val.shape)\n",
    "print('Validation labels shape: ', y_val.shape)\n",
    "print('Test data shape: ', X_test.shape)\n",
    "print('Test labels shape: ', y_test.shape)"
   ]
  },
  {
   "cell_type": "code",
   "execution_count": 29,
   "metadata": {},
   "outputs": [
    {
     "output_type": "stream",
     "name": "stdout",
     "text": [
      "<quantize_layers.quantizeConv2D object at 0x7f59742db6a0>\n<quantize_layers.quantizeConv2D object at 0x7f5975811610>\n<quantize_layers.quantizeConv2D object at 0x7f59986f4310>\n<quantize_layers.quantizeConv2D object at 0x7f5975aa5910>\n<quantize_layers.quantizeConv2D object at 0x7f5a68cba0a0>\n<quantize_layers.quantizeConv2D object at 0x7f59987744c0>\n<quantize_layers.quantizeConv2D object at 0x7f597557d4c0>\n<quantize_layers.quantizeConv2D object at 0x7f5a6884a6a0>\n<quantize_layers.quantizeConv2D object at 0x7f5974565640>\n<quantize_layers.quantizeConv2D object at 0x7f597659be80>\n<quantize_layers.quantizeConv2D object at 0x7f59986cd1f0>\n<quantize_layers.quantizeConv2D object at 0x7f59758111c0>\n<quantize_layers.quantizeConv2D object at 0x7f5976719e20>\n<quantize_layers.quantizeConv2D object at 0x7f5ab0b82a30>\n<quantize_layers.quantizeConv2D object at 0x7f59757f0b20>\n<quantize_layers.quantizeConv2D object at 0x7f59757327f0>\n<quantize_layers.quantizeConv2D object at 0x7f5a68c39280>\n<quantize_layers.quantizeConv2D object at 0x7f5abd6bb490>\n<quantize_layers.quantizeConv2D object at 0x7f5974b2b340>\n<quantize_layers.quantizeDense object at 0x7f599876afd0>\n"
     ]
    }
   ],
   "source": [
    "data_set = {\n",
    "    'train_data': X_train,\n",
    "    'train_label': y_train,\n",
    "    'val_data':X_val,\n",
    "    'val_label':y_val,\n",
    "}\n",
    "train_options = {\n",
    "    'optimizer': 'adam',\n",
    "    'lr': 0.001,\n",
    "    'epoch_num': 1,\n",
    "    'from_logits':True,\n",
    "    'save_dir': 'resnet20_model'\n",
    "}\n",
    "model_path = 'resnet20_model/trained_15'\n",
    "full_model = hub.KerasLayer(model_path,trainable=True)\n",
    "\n",
    "qunatizer = ql.ModelQunatize() \n",
    "model_q = q_res.Resnet20(qunatizer)\n",
    "qu.copy_weight(model_q,full_model)\n",
    "q_layers = model_q.get_quantizable_layers()\n",
    "for layer in q_layers:\n",
    "    print(layer)\n",
    "\n",
    "solver = Solver(model_q,data_set,train_options,save_model=False)\n",
    "\n",
    "data_shuffler = qc.DataShuffler(X_train, y_train,sample_size=1024)\n",
    "\n",
    "\n",
    "def train_fn(model,solver=solver):\n",
    "    solver = Solver(model,data_set,train_options,\n",
    "                    save_model=False,verbose=False,\n",
    "                    plot_graph=False)\n",
    "    return solver.train(iter=int(5000/32))\n",
    "\n",
    "def test_fn(model,solver=solver,shuffle=False):\n",
    "    solver = Solver(model,data_set,save_model=False,\n",
    "                    verbose=False,plot_graph=False)\n",
    "    #X_s,y_s = data_shuffler.sample(shuffle)\n",
    "    #return solver.test_model(X_test[0:8*1024-1],y_test[0:8*1024-1])\n",
    "    #return solver.test_model(X_test[0:1024*6-1],y_test[0:1024*6-1])\n",
    "    #return solver.test_model(X_s,y_s)\n",
    "    return solver.test_model(X_test,y_test)\n",
    "\n",
    "\n",
    "\n",
    "\n"
   ]
  },
  {
   "cell_type": "code",
   "execution_count": 30,
   "metadata": {
    "tags": [
     "outputPrepend"
    ]
   },
   "outputs": [
    {
     "output_type": "stream",
     "name": "stdout",
     "text": [
      "5989562497416046e-06,None][3.342025138408644e-06,None][3.3854350931505905e-06,None][1.0850684475371963e-06,None][1.2152725048508728e-06,None][1.7795246094465256e-06,None][-2.1692054374966574e-08,None][-6.510203576226559e-08,None][-1.4105656021001778e-07,None][2.2786359465953865e-07,None][-2.169852209021883e-08,None][-1.1935804877793998e-07,None][-7.052828010500889e-08,None][5.200195573706878e-06,None][5.026584858569549e-06,None][1.2098527122361702e-06,None][1.0579404374766455e-07,None][-4.8828141530066205e-08,None][4.218798039801186e-06,1]]\n",
      "reduce wl on layer 13 kernel,acc_loss: 0.0, current accuracy:0.6646000146865845, compression rate: (0.1294634538990706, 1111712)\n",
      "<quantize_complier.WlflList object at 0x7f597575e490>[[6,5,0,0][4,4,0,0][4,4,0,0][3,4,0,0][4,4,0,0][5,5,0,0][4,4,0,0][6,6,0,0][6,6,0,0][5,5,0,0][4,5,0,0][6,6,0,0][8,8,0,0][7,8,0,0][3,5,0,0][3,5,0,0][3,5,0,0][3,8,0,0][5,8,0,0][5,4,0,0]]\n",
      "<quantize_complier.AccuracyLossPerBitList object at 0x7f599876a4c0>[[1.11111612568493e-05,None][5.4253418966254685e-06,None][3.168411240039859e-06,None][3.125001057924237e-06,None][1.6493205521328491e-06,None][1.432296471648442e-06,None][1.996522769331932e-06,None][1.519090631063591e-07,None][-5.4249539971351624e-08,None][1.519090631063591e-07,None][2.2786359465953865e-07,None][8.680702734409351e-08,None][2.1704989805471087e-08,None][-5.425277294079933e-08,None][5.205621164350305e-06,None][5.080838491267059e-06,None][1.2342675290710758e-06,None][8.951852947802763e-08,None][-3.5264140052504445e-08,None][6.250105570870801e-07,1]]\n",
      "reduce wl on layer 8 kernel,acc_loss: 0.0, current accuracy:0.6523000001907349, compression rate: (0.12839021263592526, 1102496)\n",
      "<quantize_complier.WlflList object at 0x7f597575e490>[[6,5,0,0][4,4,0,0][4,4,0,0][3,4,0,0][4,4,0,0][5,5,0,0][4,4,0,0][6,6,0,0][5,6,0,0][5,5,0,0][4,5,0,0][6,6,0,0][8,8,0,0][7,7,0,0][3,5,0,0][3,5,0,0][3,5,0,0][3,8,0,0][5,8,0,0][5,4,0,0]]\n",
      "<quantize_complier.AccuracyLossPerBitList object at 0x7f599876a4c0>[[1.1342681318637915e-05,None][5.295138180372305e-06,None][3.0382070690393448e-06,None][3.168411240039859e-06,None][1.7361146547045792e-06,None][1.432296471648442e-06,None][1.8663187120182556e-06,None][1.0851201182049408e-07,None][-9.76530500906847e-08,None][1.627615517918457e-07,None][1.627615517918457e-07,None][9.765952313500748e-08,None][-1.0846027187483287e-08,None][2.1701756836023378e-08,None][5.192057869862765e-06,None][5.110677193442825e-06,None][1.2288413699934608e-06,None][8.680540730665598e-08,None][-3.5264140052504445e-08,None][1.5624798379576532e-06,1]]\n",
      "reduce wl on layer 12 kernel,acc_loss: 0.0, current accuracy:0.6675999760627747, compression rate: (0.12731697137277992, 1093280)\n",
      "<quantize_complier.WlflList object at 0x7f597575e490>[[6,5,0,0][4,4,0,0][4,4,0,0][3,4,0,0][4,4,0,0][5,5,0,0][4,4,0,0][6,6,0,0][5,5,0,0][5,5,0,0][4,5,0,0][6,6,0,0][7,8,0,0][7,7,0,0][3,5,0,0][3,5,0,0][3,5,0,0][3,8,0,0][5,8,0,0][5,4,0,0]]\n",
      "<quantize_complier.AccuracyLossPerBitList object at 0x7f599876a4c0>[[1.0879641195060685e-05,None][5.555571988224983e-06,None][3.342025138408644e-06,None][3.906251549778972e-06,None][1.1718883570210892e-06,None][2.1701368950743927e-06,None][2.473954964443692e-06,None][1.7361405468818703e-07,None][1.0852494902735543e-08,None][1.0850554588159866e-07,None][2.3871609755587997e-07,None][2.1704989805471087e-08,None][-6.510203576226559e-08,None][5.426247451367772e-09,None][5.322266133589437e-06,None][5.102539489598712e-06,None][1.2776695257343818e-06,None][7.324302231381807e-08,None][-1.6275508940566397e-08,None][1.4062970876693726e-06,1]]\n",
      "reduce wl on layer 8 kernel,acc_loss: 0.0, current accuracy:0.6503999829292297, compression rate: (0.12624373010963458, 1084064)\n",
      "<quantize_complier.WlflList object at 0x7f597575e490>[[6,5,0,0][4,4,0,0][4,4,0,0][3,4,0,0][4,4,0,0][5,5,0,0][4,4,0,0][6,6,0,0][4,5,0,0][5,5,0,0][4,5,0,0][6,6,0,0][7,7,0,0][7,7,0,0][3,5,0,0][3,5,0,0][3,5,0,0][3,8,0,0][5,8,0,0][5,4,0,0]]\n",
      "<quantize_complier.AccuracyLossPerBitList object at 0x7f599876a4c0>[[1.3425946235656738e-05,None][5.4253418966254685e-06,None][3.125001057924237e-06,None][3.86284136766335e-06,None][1.8663187120182556e-06,None][1.996522769331932e-06,None][2.343750793443178e-06,None][2.821260522978264e-07,None][-6.510203576226559e-08,None][1.519090631063591e-07,None][2.821196005697857e-07,None][6.5108501701161e-08,None][5.425600591024704e-08,None][-3.255101788113279e-08,None][5.297852112562396e-06,None][5.075412900623633e-06,None][1.2641071407415438e-06,None][6.781677797107477e-08,None][-2.1701756836023378e-08,None][1.875031784948078e-06,1]]\n",
      "reduce wl on layer 7 kernel,acc_loss: 0.0, current accuracy:0.651199996471405, compression rate: (0.1257071094780619, 1079456)\n",
      "<quantize_complier.WlflList object at 0x7f597575e490>[[6,5,0,0][4,4,0,0][4,4,0,0][3,4,0,0][4,4,0,0][5,5,0,0][4,4,0,0][5,6,0,0][4,4,0,0][5,5,0,0][4,5,0,0][6,6,0,0][7,7,0,0][7,7,0,0][3,5,0,0][3,5,0,0][3,5,0,0][3,8,0,0][5,8,0,0][5,4,0,0]]\n",
      "<quantize_complier.AccuracyLossPerBitList object at 0x7f599876a4c0>[[3.7037664242234314e-06,None][6.206592388480203e-06,None][3.125001057924237e-06,None][2.8211829885549378e-06,None][1.432296471648442e-06,None][1.6059105973909027e-06,None][2.343750793443178e-06,None][-1.3020407152453117e-07,None][3.0598991997976555e-06,None][1.9531256612026482e-07,None][1.410630261489132e-07,None][4.3403513672046756e-08,None][-5.4249539971351624e-08,None][1.0852494902735543e-08,None][5.116102329338901e-06,None][5.021159267926123e-06,None][1.2641071407415438e-06,None][8.680540730665598e-08,None][-8.137754470283198e-09,None][3.5937875964009436e-06,1]]\n",
      "reduce wl on layer 12 kernel,acc_loss: 0.0, current accuracy:0.6675999760627747, compression rate: (0.12463386821491657, 1070240)\n",
      "<quantize_complier.WlflList object at 0x7f597575e490>[[6,5,0,0][4,4,0,0][4,4,0,0][3,4,0,0][4,4,0,0][5,5,0,0][4,4,0,0][5,5,0,0][4,4,0,0][5,5,0,0][4,5,0,0][6,6,0,0][6,7,0,0][7,7,0,0][3,5,0,0][3,5,0,0][3,5,0,0][3,8,0,0][5,8,0,0][5,4,0,0]]\n",
      "<quantize_complier.AccuracyLossPerBitList object at 0x7f599876a4c0>[[9.259278158424422e-06,None][5.4253418966254685e-06,None][2.9947971142973984e-06,None][2.690979044928099e-06,None][1.5190905742201721e-06,None][1.9097287804470398e-06,None][2.430570930300746e-06,None][6.944432584532478e-07,None][3.0815976970188785e-06,None][3.146706148982048e-07,None][9.765952313500748e-08,None][1.0850554588159866e-07,None][-8.680702734409351e-08,None][-8.138077589592285e-08,None][5.042860266257776e-06,None][5.132378646521829e-06,None][1.2722448445856571e-06,None][1.0308253450830307e-07,None][-1.6275508940566397e-08,None][9.375065928907134e-06,1]]\n",
      "reduce wl on layer 13 kernel,acc_loss: 0.0, current accuracy:0.6632000207901001, compression rate: (0.12248738568862588, 1051808)\n",
      "<quantize_complier.WlflList object at 0x7f597575e490>[[6,5,0,0][4,4,0,0][4,4,0,0][3,4,0,0][4,4,0,0][5,5,0,0][4,4,0,0][5,5,0,0][4,4,0,0][5,5,0,0][4,5,0,0][6,6,0,0][6,6,0,0][6,7,0,0][3,5,0,0][3,5,0,0][3,5,0,0][3,8,0,0][5,8,0,0][5,4,0,0]]\n",
      "<quantize_complier.AccuracyLossPerBitList object at 0x7f599876a4c0>[[9.027758096635807e-06,None][5.555571988224983e-06,None][2.8211829885549378e-06,None][2.951387159555452e-06,None][1.5190905742201721e-06,None][1.6493205521328491e-06,None][2.213546849816339e-06,None][6.293412297964096e-07,None][3.027348157047527e-06,None][3.038181262127182e-07,None][9.765952313500748e-08,None][7.595453155317955e-08,None][9.765952313500748e-08,None][-1.0850554588159866e-07,None][5.032010449212976e-06,None][5.140516805113293e-06,None][1.2912335023429478e-06,None][7.324302231381807e-08,None][-1.8988632888294887e-08,None][7.031298991932999e-06,1]]\n",
      "reduce wl on layer 18 kernel,acc_loss: 0.0, current accuracy:0.6680999994277954, compression rate: (0.1181944206360445, 1014944)\n",
      "<quantize_complier.WlflList object at 0x7f597575e490>[[6,5,0,0][4,4,0,0][4,4,0,0][3,4,0,0][4,4,0,0][5,5,0,0][4,4,0,0][5,5,0,0][4,4,0,0][5,5,0,0][4,5,0,0][6,6,0,0][6,6,0,0][6,6,0,0][3,5,0,0][3,5,0,0][3,5,0,0][3,8,0,0][4,8,0,0][5,4,0,0]]\n",
      "<quantize_complier.AccuracyLossPerBitList object at 0x7f599876a4c0>[[8.796376278041862e-06,None][5.6423659771098755e-06,None][2.8211829885549378e-06,None][2.5173649191856384e-06,None][5.642521045956528e-07,None][1.7361146547045792e-06,None][3.2552052289247513e-06,None][7.595452871100861e-07,None][3.0381941087398445e-06,None][1.7361405468818703e-07,None][2.1704989805471087e-08,None][-1.0846027187483287e-08,None][-5.4249539971351624e-08,None][5.967902438896999e-08,None][4.994032224203693e-06,None][5.102539489598712e-06,None][1.2939449334226083e-06,None][7.324302231381807e-08,None][-5.425277294079933e-08,None][6.7187474996899255e-06,1]]\n",
      "reduce wl on layer 12 kernel,acc_loss: 0.0, current accuracy:0.6680999994277954, compression rate: (0.11712117937289916, 1005728)\n",
      "<quantize_complier.WlflList object at 0x7f597575e490>[[6,5,0,0][4,4,0,0][4,4,0,0][3,4,0,0][4,4,0,0][5,5,0,0][4,4,0,0][5,5,0,0][4,4,0,0][5,5,0,0][4,5,0,0][6,6,0,0][5,6,0,0][6,6,0,0][3,5,0,0][3,5,0,0][3,5,0,0][3,8,0,0][4,7,0,0][5,4,0,0]]\n",
      "<quantize_complier.AccuracyLossPerBitList object at 0x7f599876a4c0>[[8.796376278041862e-06,None][5.555571988224983e-06,None][2.864592943296884e-06,None][2.5173649191856384e-06,None][6.510462071673828e-07,None][1.6059105973909027e-06,None][3.2552052289247513e-06,None][8.246602760664246e-07,None][3.0381941087398445e-06,None][1.9531256612026482e-07,None][4.3403513672046756e-08,None][2.1704989805471087e-08,None][-9.76530500906847e-08,None][5.967902438896999e-08,None][4.9560549086891115e-06,None][5.105252512294101e-06,None][1.2776695257343818e-06,None][6.781677797107477e-08,None][-5.425277294079933e-08,None][7.031298991932999e-06,1]]\n",
      "reduce wl on layer 18 kernel,acc_loss: 0.0, current accuracy:0.6653000116348267, compression rate: (0.1128282143203178, 968864)\n",
      "<quantize_complier.WlflList object at 0x7f597575e490>[[6,5,0,0][4,4,0,0][4,4,0,0][3,4,0,0][4,4,0,0][5,5,0,0][4,4,0,0][5,5,0,0][4,4,0,0][5,5,0,0][4,5,0,0][6,6,0,0][5,5,0,0][6,6,0,0][3,5,0,0][3,5,0,0][3,5,0,0][3,8,0,0][3,7,0,0][5,4,0,0]]\n",
      "<quantize_complier.AccuracyLossPerBitList object at 0x7f599876a4c0>[[9.953700100595597e-06,None][5.946184046479175e-06,None][3.2552052289247513e-06,None][3.2118211947818054e-06,None][1.1718883570210892e-06,None][1.6927046999626327e-06,None][2.5173649191856384e-06,None][1.0416713394079125e-06,None][3.2009556889533997e-06,None][3.255231035836914e-07,None][1.410630261489132e-07,None][5.425600591024704e-08,None][4.3403513672046756e-08,None][8.680702734409351e-08,None][5.094401785754599e-06,None][5.194769983063452e-06,None][1.3834635410603369e-06,None][1.0308253450830307e-07,None][-1.8988632888294887e-08,None][1.250002515007509e-05,1]]\n",
      "reduce wl on layer 18 kernel,acc_loss: 0.0, current accuracy:0.6656000018119812, compression rate: (0.10853524926773643, 932000)\n",
      "<quantize_complier.WlflList object at 0x7f597575e490>[[6,5,0,0][4,4,0,0][4,4,0,0][3,4,0,0][4,4,0,0][5,5,0,0][4,4,0,0][5,5,0,0][4,4,0,0][5,5,0,0][4,5,0,0][6,6,0,0][5,5,0,0][6,6,0,0][3,5,0,0][3,5,0,0][3,5,0,0][3,8,0,0][2,6,0,0][5,4,0,0]]\n",
      "<quantize_complier.AccuracyLossPerBitList object at 0x7f599876a4c0>[[9.259278158424422e-06,None][6.033003955963068e-06,None][3.2552052289247513e-06,None][3.342025138408644e-06,None][1.345502369076712e-06,None][2.1267526335577713e-06,None][2.951387159555452e-06,None][1.0416713394079125e-06,None][3.2443592772324337e-06,None][3.146706148982048e-07,None][9.765952313500748e-08,None][7.595453155317955e-08,None][1.519090631063591e-07,None][1.0850877885104637e-07,None][4.975043339072727e-06,None][5.162218258192297e-06,None][1.3644748833030462e-06,None][8.680540730665598e-08,None][-2.4413262522671175e-08,None][1.1875014934048522e-05,1]]\n",
      "reduce wl on layer 11 kernel,acc_loss: 0.00010001659393310547, current accuracy:0.6646000146865845, compression rate: (0.10746200800459109, 922784)\n",
      "<quantize_complier.WlflList object at 0x7f597575e490>[[6,5,0,0][4,4,0,0][4,4,0,0][3,4,0,0][4,4,0,0][5,5,0,0][4,4,0,0][5,5,0,0][4,4,0,0][5,5,0,0][4,5,0,0][5,6,0,0][5,5,0,0][6,6,0,0][3,5,0,0][3,5,0,0][3,5,0,0][3,8,0,0][2,5,0,0][5,4,0,0]]\n",
      "<quantize_complier.AccuracyLossPerBitList object at 0x7f599876a4c0>[[1.0879641195060685e-05,None][5.512161806109361e-06,None][3.125001057924237e-06,None][3.4722293094091583e-06,None][1.3020924143347656e-06,None][2.343750793443178e-06,None][3.3854350931505905e-06,None][1.0199663620369392e-06,None][3.3094611353590153e-06,None][3.580741179121105e-07,None][1.1935804877793998e-07,None][1.0852494902735543e-08,None][2.0616506901660614e-07,None][6.51052687317133e-08,None][4.625109795597382e-06,None][5.1595052354969084e-06,None][1.3888898138247896e-06,None][1.085071659190362e-07,None][5.4254389425523186e-08,None][9.99998337647412e-06,1]]\n",
      "reduce wl on layer 13 kernel,acc_loss: 0.0009000301361083984, current accuracy:0.6600000262260437, compression rate: (0.1053155254783004, 904352)\n",
      "<quantize_complier.WlflList object at 0x7f597575e490>[[6,5,0,0][4,4,0,0][4,4,0,0][3,4,0,0][4,4,0,0][5,5,0,0][4,4,0,0][5,5,0,0][4,4,0,0][5,5,0,0][4,5,0,0][5,5,0,0][5,5,0,0][5,6,0,0][3,5,0,0][3,5,0,0][3,5,0,0][3,8,0,0][2,5,0,0][5,4,0,0]]\n",
      "<quantize_complier.AccuracyLossPerBitList object at 0x7f599876a4c0>[[1.4814789210504387e-05,None][6.8142544478178024e-06,None][3.2986151836666977e-06,None][3.4722293094091583e-06,None][1.3020924143347656e-06,None][2.7343889996700455e-06,None][2.690979044928099e-06,None][1.2586824595928192e-06,None][3.3745698146958603e-06,None][4.99130692332983e-07,None][8.680702734409351e-08,None][2.0616506901660614e-07,None][7.595453155317955e-08,None][4.3403513672046756e-08,None][4.6712248149560764e-06,None][5.175781552679837e-06,None][1.4295801520347595e-06,None][9.494316088876076e-08,None][9.765628306013241e-08,None][1.546880230307579e-05,1]]\n",
      "reduce wl on layer 11 kernel,acc_loss: 0.0009000301361083984, current accuracy:0.6644999980926514, compression rate: (0.10424228421515506, 895136)\n",
      "<quantize_complier.WlflList object at 0x7f597575e490>[[6,5,0,0][4,4,0,0][4,4,0,0][3,4,0,0][4,4,0,0][5,5,0,0][4,4,0,0][5,5,0,0][4,4,0,0][5,5,0,0][4,5,0,0][4,5,0,0][5,5,0,0][5,5,0,0][3,5,0,0][3,5,0,0][3,5,0,0][3,8,0,0][2,5,0,0][5,4,0,0]]\n",
      "<quantize_complier.AccuracyLossPerBitList object at 0x7f599876a4c0>[[1.8287035345565528e-05,None][6.380206286848988e-06,None][3.3854350931505905e-06,None][3.6892533898935653e-06,None][1.5625005289621186e-06,None][2.213546849816339e-06,None][3.3854350931505905e-06,None][1.0199663620369392e-06,None][3.5698822102858685e-06,None][4.231761749906582e-07,None][1.410630261489132e-07,None][-1.0846027187483287e-08,None][2.0616506901660614e-07,None][9.765628306013241e-08,None][4.725477992906235e-06,None][5.129666533321142e-06,None][1.4241538792703068e-06,None][9.223165875482664e-08,None][7.86676537245512e-08,None][1.4375056707649492e-05,1]]\n",
      "reduce wl on layer 18 kernel,acc_loss: 0.0025000572204589844, current accuracy:0.6643999814987183, compression rate: (0.09994931916257369, 858272)\n",
      "<quantize_complier.WlflList object at 0x7f597575e490>[[6,5,0,0][4,4,0,0][4,4,0,0][3,4,0,0][4,4,0,0][5,5,0,0][4,4,0,0][5,5,0,0][4,4,0,0][5,5,0,0][4,5,0,0][4,5,0,0][5,5,0,0][5,5,0,0][3,5,0,0][3,5,0,0][3,5,0,0][3,8,0,0][1,5,0,0][5,4,0,0]]\n",
      "<quantize_complier.AccuracyLossPerBitList object at 0x7f599876a4c0>[[1.8750075469142757e-05,None][6.640640549449017e-06,None][4.253479346516542e-06,None][3.7326374240365112e-06,None][1.432296471648442e-06,None][1.8663187120182556e-06,None][3.168411240039859e-06,None][8.463523499813164e-07,None][3.363717269166955e-06,None][5.642392011395714e-07,None][3.9062513224052964e-07,None][5.208356697039562e-07,None][2.929720892552723e-07,None][1.1935804877793998e-07,None][5.018446245230734e-06,None][5.362956471799407e-06,None][1.440429400645371e-06,None][1.139334102617795e-07,None][4.3403513672046756e-08,None][1.0781269338622224e-05,1]]\n",
      "reduce wl on layer 17 kernel,acc_loss: 0.005500078201293945, current accuracy:0.6618000268936157, compression rate: (0.09565635410999232, 821408)\n",
      "<quantize_complier.WlflList object at 0x7f597575e490>[[6,5,0,0][4,4,0,0][4,4,0,0][3,4,0,0][4,4,0,0][5,5,0,0][4,4,0,0][5,5,0,0][4,4,0,0][5,5,0,0][4,5,0,0][4,5,0,0][5,5,0,0][5,5,0,0][3,5,0,0][3,5,0,0][3,5,0,0][2,8,0,0][1,4,0,0][5,4,0,0]]\n",
      "<quantize_complier.AccuracyLossPerBitList object at 0x7f599876a4c0>[[2.2453705241787247e-05,None][5.77257014811039e-06,None][4.16668535763165e-06,None][3.949661277147243e-06,None][2.5173649191856384e-06,None][2.8211829885549378e-06,None][3.5590232982940506e-06,None][1.0850684475371963e-06,None][3.62413175025722e-06,None][7.921028100099647e-07,None][4.99130692332983e-07,None][5.425342237685982e-07,None][4.448811523616314e-07,None][1.7361081461331196e-07,None][4.351129518909147e-06,None][5.297852112562396e-06,None][1.5543628251180053e-06,None][8.138077589592285e-08,None][3.499347656088503e-07,None][1.3906229469284881e-05,1]]\n",
      "reduce wl on layer 13 kernel,acc_loss: 0.007700085639953613, current accuracy:0.6528000235557556, compression rate: (0.09350987158370164, 802976)\n",
      "<quantize_complier.WlflList object at 0x7f597575e490>[[6,5,0,0][4,4,0,0][4,4,0,0][3,4,0,0][4,4,0,0][5,5,0,0][4,4,0,0][5,5,0,0][4,4,0,0][5,5,0,0][4,5,0,0][4,5,0,0][5,5,0,0][4,5,0,0][3,5,0,0][3,5,0,0][3,5,0,0][2,7,0,0][1,4,0,0][5,4,0,0]]\n",
      "<quantize_complier.AccuracyLossPerBitList object at 0x7f599876a4c0>[[2.89351573883323e-05,None][9.288209184887819e-06,None][6.72743453833391e-06,None][5.078140020486899e-06,None][2.0399327240738785e-06,None][2.951387159555452e-06,None][3.125001057924237e-06,None][1.0416713394079125e-06,None][3.710938926815288e-06,None][3.472216292266239e-07,None][5.099831810184696e-07,None][6.727447612320248e-07,None][2.929720892552723e-07,None][1.1935804877793998e-07,None][5.164930826140335e-06,None][6.0384118114598095e-06,None][1.510959350525809e-06,None][3.2823461992848024e-07,None][3.499347656088503e-07,None][1.500006783317076e-05,1]]\n",
      "reduce wl on layer 17 kernel,acc_loss: 0.018800079822540283, current accuracy:0.6557999849319458, compression rate: (0.08921690653112027, 766112)\n",
      "<quantize_complier.WlflList object at 0x7f597575e490>[[6,5,0,0][4,4,0,0][4,4,0,0][3,4,0,0][4,4,0,0][5,5,0,0][4,4,0,0][5,5,0,0][4,4,0,0][5,5,0,0][4,5,0,0][4,5,0,0][5,5,0,0][4,4,0,0][3,5,0,0][3,5,0,0][3,5,0,0][1,7,0,0][1,4,0,0][5,4,0,0]]\n",
      "<quantize_complier.AccuracyLossPerBitList object at 0x7f599876a4c0>[[2.708341162360739e-05,None][9.331593901151791e-06,None][6.640640549449017e-06,None][5.685776159225497e-06,None][1.6059105973909027e-06,None][2.6475690901861526e-06,None][4.210069619148271e-06,None][1.2586824595928192e-06,None][4.079865448147757e-06,None][6.076427325751865e-07,None][3.580741179121105e-07,None][6.293412297964096e-07,None][4.882846837972465e-07,None][1.8391939420325798e-06,None][5.333116860128939e-06,None][6.176758688525297e-06,None][1.5190970543699223e-06,None][3.0110660986792936e-07,None][3.146706148982048e-07,None][1.3125036275596358e-05,1]]\n",
      "=========Finial Tunne=========\n",
      "Epoch: 0/1\n",
      "  156/1531 |==***********************|  - train_acc: 0.9667 - train_loss: 0.1034 - val_acc: NA    - val_loss: NA   \n",
      "Epoch: 0/1\n",
      "  156/1531 |==***********************|  - train_acc: 0.9489 - train_loss: 0.1600 - val_acc: NA    - val_loss: NA   \n",
      "Epoch: 0/1\n",
      "  156/1531 |==***********************|  - train_acc: 0.9531 - train_loss: 0.1485 - val_acc: NA    - val_loss: NA   \n",
      "Epoch: 0/1\n",
      "  156/1531 |==***********************|  - train_acc: 0.9653 - train_loss: 0.1192 - val_acc: NA    - val_loss: NA   \n",
      "Epoch: 0/1\n",
      "  156/1531 |==***********************|  - train_acc: 0.9669 - train_loss: 0.1130 - val_acc: NA    - val_loss: NA   \n",
      "Epoch: 0/1\n",
      "  156/1531 |==***********************|  - train_acc: 0.9641 - train_loss: 0.1109 - val_acc: NA    - val_loss: NA   \n",
      "Epoch: 0/1\n",
      "  156/1531 |==***********************|  - train_acc: 0.9627 - train_loss: 0.1179 - val_acc: NA    - val_loss: NA   \n",
      "Epoch: 0/1\n",
      "  156/1531 |==***********************|  - train_acc: 0.9643 - train_loss: 0.1049 - val_acc: NA    - val_loss: NA   \n",
      "Epoch: 0/1\n",
      "  156/1531 |==***********************|  - train_acc: 0.9623 - train_loss: 0.1181 - val_acc: NA    - val_loss: NA   \n",
      "Epoch: 0/1\n",
      "  156/1531 |==***********************|  - train_acc: 0.9716 - train_loss: 0.0939 - val_acc: NA    - val_loss: NA   \n"
     ]
    },
    {
     "output_type": "execute_result",
     "data": {
      "text/plain": [
       "(<qunatize_resnet20.Resnet20 at 0x7f5a68c187c0>,\n",
       " <quantize_complier.WlflList at 0x7f597575e490>)"
      ]
     },
     "metadata": {},
     "execution_count": 30
    }
   ],
   "source": [
    "q_complier = qc.QunatizeComplier(model_q,full_model,q_layers,train_fn,test_fn,verbose=True,target_compression=0.12,max_loss=0.03)\n",
    "q_complier.quantize_model()"
   ]
  },
  {
   "cell_type": "code",
   "execution_count": 31,
   "metadata": {},
   "outputs": [
    {
     "output_type": "stream",
     "name": "stdout",
     "text": [
      "INFO:tensorflow:Assets written to: complier_tmp/3deep_compressed_resnet20_model/assets\n"
     ]
    }
   ],
   "source": [
    "\n",
    "model_save_path = 'complier_tmp/3deep_compressed_resnet20_model'\n",
    "wlfl_save_path = 'complier_tmp/3deep_compressed_resnet20_wlfl.txt'\n",
    "model_q.model.save_weights(model_save_path)\n",
    "tf.saved_model.save(model_q.model,model_save_path)\n",
    "q_complier.wl_agent.get_wl_list().save(wlfl_save_path)\n"
   ]
  },
  {
   "cell_type": "code",
   "execution_count": 32,
   "metadata": {
    "tags": []
   },
   "outputs": [
    {
     "output_type": "stream",
     "name": "stdout",
     "text": [
      "Loss: 1.8155468702316284,Test Accuracy: 66.05999755859375\n"
     ]
    },
    {
     "output_type": "execute_result",
     "data": {
      "text/plain": [
       "(0.08921690653112027, 766112)"
      ]
     },
     "metadata": {},
     "execution_count": 32
    }
   ],
   "source": [
    "\n",
    "model_q.model.load_weights(model_save_path)\n",
    "q_layers = model_q.get_quantizable_layers()\n",
    "wlfl_list = qc.WlflList(len(q_layers))\n",
    "wlfl_list.load(wlfl_save_path)\n",
    "q_complier.fl_agent.apply_wlfl_to_layers(q_layers,wlfl_list)\n",
    "solver = Solver(model_q,data_set,train_options)\n",
    "solver.test_model(X_test,y_test)\n",
    "q_complier.wl_agent.get_compression_rate()\n"
   ]
  },
  {
   "cell_type": "code",
   "execution_count": 33,
   "metadata": {},
   "outputs": [
    {
     "output_type": "stream",
     "name": "stdout",
     "text": [
      "Loss: 1.8155468702316284,Test Accuracy: 66.05999755859375\n"
     ]
    },
    {
     "output_type": "execute_result",
     "data": {
      "text/plain": [
       "(<tf.Tensor: shape=(), dtype=float32, numpy=1.8155469>,\n",
       " <tf.Tensor: shape=(), dtype=float32, numpy=0.6606>)"
      ]
     },
     "metadata": {},
     "execution_count": 33
    }
   ],
   "source": [
    "solver.test_model(X_test,y_test)"
   ]
  }
 ]
}