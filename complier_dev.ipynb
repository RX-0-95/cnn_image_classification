{
 "metadata": {
  "language_info": {
   "codemirror_mode": {
    "name": "ipython",
    "version": 3
   },
   "file_extension": ".py",
   "mimetype": "text/x-python",
   "name": "python",
   "nbconvert_exporter": "python",
   "pygments_lexer": "ipython3",
   "version": "3.8.10"
  },
  "orig_nbformat": 2,
  "kernelspec": {
   "name": "python3810jvsc74a57bd01e176acbd42c1e3e7f101af43ec62a5c4debfebb92accde047567277d89b2ce2",
   "display_name": "Python 3.8.10 64-bit ('tf-gpu': conda)"
  }
 },
 "nbformat": 4,
 "nbformat_minor": 2,
 "cells": [
  {
   "cell_type": "code",
   "execution_count": 71,
   "metadata": {},
   "outputs": [
    {
     "output_type": "stream",
     "name": "stdout",
     "text": [
      "The autoreload extension is already loaded. To reload it, use:\n",
      "  %reload_ext autoreload\n",
      "Train data shape:  (49000, 32, 32, 3)\n",
      "Train labels shape:  (49000,) int64\n",
      "Validation data shape:  (1000, 32, 32, 3)\n",
      "Validation labels shape:  (1000,)\n",
      "Test data shape:  (10000, 32, 32, 3)\n",
      "Test labels shape:  (10000,)\n"
     ]
    }
   ],
   "source": [
    "import gzip, shutil\n",
    "import os \n",
    "import data_utils as du \n",
    "import tensorflow as tf \n",
    "from tensorflow import keras \n",
    "import numpy as np \n",
    "from six.moves import cPickle as pickle\n",
    "import numpy as np\n",
    "import os\n",
    "from matplotlib.pyplot import imread\n",
    "import matplotlib.pyplot as plt \n",
    "import platform\n",
    "import data_utils as du \n",
    "from cnn_model import *\n",
    "from solver import Solver\n",
    "import qunatize_resnet20 as q_res\n",
    "import quantize_layers as ql\n",
    "import tensorflow_hub as hub \n",
    "import quantize_util as qu \n",
    "import quantize_complier as qc \n",
    "\n",
    "\n",
    "%load_ext autoreload\n",
    "%autoreload 2\n",
    "%matplotlib inline\n",
    "%reload_ext autoreload\n",
    "plt.rcParams['figure.figsize'] = (15.0, 15.0) # set default size of plots\n",
    "plt.rcParams['image.interpolation'] = 'nearest'\n",
    "plt.rcParams['image.cmap'] = 'gray'\n",
    "\n",
    "Data_folder = 'CIFAR10_Data'\n",
    "Data_fn = 'cifar-10-python'\n",
    "X_train, y_train, X_val, y_val, X_test, y_test = du.get_CIFAR10_data(subtract_mean =True)\n",
    "print('Train data shape: ', X_train.shape)\n",
    "print('Train labels shape: ', y_train.shape, y_train.dtype)\n",
    "print('Validation data shape: ', X_val.shape)\n",
    "print('Validation labels shape: ', y_val.shape)\n",
    "print('Test data shape: ', X_test.shape)\n",
    "print('Test labels shape: ', y_test.shape)"
   ]
  },
  {
   "cell_type": "code",
   "execution_count": 72,
   "metadata": {},
   "outputs": [
    {
     "output_type": "stream",
     "name": "stdout",
     "text": [
      "<quantize_layers.quantizeConv2D object at 0x7f6eae4ac940>\n<quantize_layers.quantizeConv2D object at 0x7f6eb0be5a00>\n<quantize_layers.quantizeConv2D object at 0x7f6ec0300b80>\n<quantize_layers.quantizeConv2D object at 0x7f6ed018e5e0>\n<quantize_layers.quantizeConv2D object at 0x7f6eae48f730>\n<quantize_layers.quantizeConv2D object at 0x7f6eaec2a400>\n<quantize_layers.quantizeConv2D object at 0x7f6ecfa95c70>\n<quantize_layers.quantizeConv2D object at 0x7f6ecfa7f160>\n<quantize_layers.quantizeConv2D object at 0x7f6eae9ee250>\n<quantize_layers.quantizeConv2D object at 0x7f6eb12b5760>\n<quantize_layers.quantizeConv2D object at 0x7f6eb1038c40>\n<quantize_layers.quantizeConv2D object at 0x7f6ece842a90>\n<quantize_layers.quantizeConv2D object at 0x7f6ece855cd0>\n<quantize_layers.quantizeConv2D object at 0x7f6ece71e040>\n<quantize_layers.quantizeConv2D object at 0x7f6ece4b6c40>\n<quantize_layers.quantizeConv2D object at 0x7f6ece3e4430>\n<quantize_layers.quantizeConv2D object at 0x7f6ece60f550>\n<quantize_layers.quantizeConv2D object at 0x7f6ece3e46d0>\n<quantize_layers.quantizeConv2D object at 0x7f6ece3de7f0>\n<quantize_layers.quantizeDense object at 0x7f6ec0f58a30>\n"
     ]
    }
   ],
   "source": [
    "data_set = {\n",
    "    'train_data': X_train,\n",
    "    'train_label': y_train,\n",
    "    'val_data':X_val,\n",
    "    'val_label':y_val,\n",
    "}\n",
    "train_options = {\n",
    "    'optimizer': 'adam',\n",
    "    'lr': 0.001,\n",
    "    'epoch_num': 1,\n",
    "    'from_logits':True,\n",
    "    'save_dir': 'resnet20_model'\n",
    "}\n",
    "model_path = 'resnet20_model/trained_15'\n",
    "full_model = hub.KerasLayer(model_path,trainable=True)\n",
    "\n",
    "qunatizer = ql.ModelQunatize() \n",
    "model_q = q_res.Resnet20(qunatizer)\n",
    "qu.copy_weight(model_q,full_model)\n",
    "q_layers = model_q.get_quantizable_layers()\n",
    "for layer in q_layers:\n",
    "    print(layer)\n",
    "solver = Solver(model_q,data_set,train_options,save_model=False)\n",
    "\n",
    "def train_fn(model):\n",
    "    solver = Solver(model,data_set,train_options,\n",
    "                    save_model=False,verbose=False,\n",
    "                    plot_graph=False)\n",
    "    return solver.train(iter=int(5000/32))\n",
    "\n",
    "def test_fn(model):\n",
    "    solver = Solver(model,data_set,save_model=False,\n",
    "                    verbose=False,plot_graph=False)\n",
    "    return solver.test_model(X_test,y_test)\n",
    "\n",
    "\n",
    "\n"
   ]
  },
  {
   "cell_type": "code",
   "execution_count": 73,
   "metadata": {
    "tags": [
     "outputPrepend"
    ]
   },
   "outputs": [
    {
     "output_type": "stream",
     "name": "stdout",
     "text": [
      "wl on layer 10 kernel,acc_loss: 0.0, current accuracy:0.6870999932289124, compression rate: (0.208832999187616, 1793264)\n",
      "<quantize_complier.WlflList object at 0x7f6ecddb0ca0>[[5,5,0,0][5,5,0,0][5,5,0,0][4,4,0,0][3,4,0,0][3,4,0,0][4,4,0,0][6,6,0,0][6,6,0,0][5,5,0,0][4,5,0,0][7,7,0,0][5,5,0,0][7,7,0,0][7,7,0,0][7,7,0,0][7,7,0,0][7,7,0,0][8,8,0,0][5,4,0,0]]\n",
      "<quantize_complier.AccuracyLossPerBitList object at 0x7f6eb0372490>[[1.2731524293485563e-05,None][5.121523827256169e-06,None][3.2986151836666977e-06,None][2.7777730338129913e-06,None][2.951387159555452e-06,None][4.991319656255655e-06,None][1.0416842997074127e-06,None][7.378532700386131e-07,None][2.3871609755587997e-07,None][3.146706148982048e-07,None][-1.4105656021001778e-07,None][2.0616506901660614e-07,None][3.6892663501930656e-07,None][5.425600591024704e-08,None][4.3403513672046756e-08,None][0.0,None][-2.9839512194484996e-08,None][-2.1700138574942684e-08,None][8.137754470283198e-09,None][2.2343732780427672e-05,1]]\n",
      "reduce wl on layer 10 kernel,acc_loss: 0.0, current accuracy:0.6739000082015991, compression rate: (0.20775975792447066, 1784048)\n",
      "<quantize_complier.WlflList object at 0x7f6ecddb0ca0>[[5,5,0,0][5,5,0,0][5,5,0,0][4,4,0,0][3,4,0,0][3,4,0,0][4,4,0,0][6,6,0,0][6,6,0,0][5,5,0,0][3,5,0,0][7,7,0,0][5,5,0,0][7,7,0,0][7,7,0,0][7,7,0,0][7,7,0,0][7,7,0,0][8,8,0,0][5,4,0,0]]\n",
      "<quantize_complier.AccuracyLossPerBitList object at 0x7f6eb0372490>[[3.240726528019877e-06,None][3.6892533898935653e-06,None][1.7795246094465256e-06,None][2.343750793443178e-06,None][1.9097287804470398e-06,None][4.557297870633192e-06,None][9.114543786381546e-07,None][-4.339704418043766e-08,None][5.425600591024704e-08,None][2.712671118842991e-07,None][-2.6041459477710305e-07,None][0.0,None][2.0616506901660614e-07,None][7.595453155317955e-08,None][1.8988632888294887e-08,None][-2.9839512194484996e-08,None][-5.967902438896999e-08,None][-2.7115067968708217e-09,None][-1.3562384992837906e-08,None][1.8750037270365283e-05,1]]\n",
      "reduce wl on layer 11 kernel,acc_loss: 0.0, current accuracy:0.6877999901771545, compression rate: (0.20668651666132531, 1774832)\n",
      "<quantize_complier.WlflList object at 0x7f6ecddb0ca0>[[5,5,0,0][5,5,0,0][5,5,0,0][4,4,0,0][3,4,0,0][3,4,0,0][4,4,0,0][6,6,0,0][6,6,0,0][5,5,0,0][3,4,0,0][6,7,0,0][5,5,0,0][7,7,0,0][7,7,0,0][7,7,0,0][7,7,0,0][7,7,0,0][8,8,0,0][5,4,0,0]]\n",
      "<quantize_complier.AccuracyLossPerBitList object at 0x7f6eb0372490>[[6.018551630404545e-06,None][2.951387159555452e-06,None][1.8663187120182556e-06,None][1.6493205521328491e-06,None][2.473954964443692e-06,None][4.7743214963702485e-06,None][8.68070230808371e-07,None][2.3871609755587997e-07,None][-9.76530500906847e-08,None][3.472216292266239e-07,None][1.0416713394079125e-06,None][-1.3020407152453117e-07,None][5.099831810184696e-07,None][5.426247451367772e-09,None][-5.967902438896999e-08,None][-7.32414093818079e-08,None][-7.595453155317955e-08,None][-4.6115019358694553e-08,None][-6.510364869427576e-08,None][1.8125027054338716e-05,1]]\n",
      "reduce wl on layer 16 kernel,acc_loss: 0.0, current accuracy:0.6840000152587891, compression rate: (0.20239355160874392, 1737968)\n",
      "<quantize_complier.WlflList object at 0x7f6ecddb0ca0>[[5,5,0,0][5,5,0,0][5,5,0,0][4,4,0,0][3,4,0,0][3,4,0,0][4,4,0,0][6,6,0,0][6,6,0,0][5,5,0,0][3,4,0,0][6,6,0,0][5,5,0,0][7,7,0,0][7,7,0,0][7,7,0,0][6,7,0,0][7,7,0,0][8,8,0,0][5,4,0,0]]\n",
      "<quantize_complier.AccuracyLossPerBitList object at 0x7f6eb0372490>[[4.861090019403491e-06,None][2.8211829885549378e-06,None][2.9080028980388306e-06,None][1.4757065400772262e-06,None][2.7777730338129913e-06,None][4.991319656255655e-06,None][1.432296471648442e-06,None][2.821260522978264e-07,None][0.0,None][5.208356697039562e-07,None][9.982678648157162e-07,None][5.425600591024704e-08,None][6.510462071673828e-07,None][0.0,None][-8.137754470283198e-09,None][-1.8988632888294887e-08,None][-5.425277294079933e-08,None][-1.6275508940566397e-08,None][-3.7977265776589775e-08,None][1.8281303709954955e-05,1]]\n",
      "reduce wl on layer 15 kernel,acc_loss: 0.0, current accuracy:0.6876999735832214, compression rate: (0.19810058655616256, 1701104)\n",
      "<quantize_complier.WlflList object at 0x7f6ecddb0ca0>[[5,5,0,0][5,5,0,0][5,5,0,0][4,4,0,0][3,4,0,0][3,4,0,0][4,4,0,0][6,6,0,0][6,6,0,0][5,5,0,0][3,4,0,0][6,6,0,0][5,5,0,0][7,7,0,0][7,7,0,0][6,7,0,0][6,6,0,0][7,7,0,0][8,8,0,0][5,4,0,0]]\n",
      "<quantize_complier.AccuracyLossPerBitList object at 0x7f6eb0372490>[[4.629708200809546e-06,None][3.0382070690393448e-06,None][3.125001057924237e-06,None][1.432296471648442e-06,None][2.473954964443692e-06,None][4.296889528632164e-06,None][1.2152725048508728e-06,None][2.821260522978264e-07,None][-5.4249539971351624e-08,None][4.123301380332123e-07,None][1.0091139301948715e-06,None][8.680702734409351e-08,None][5.425342237685982e-07,None][-3.255101788113279e-08,None][-2.7115067968708217e-09,None][-5.425277294079933e-08,None][1.356400147756176e-08,None][-1.6275508940566397e-08,None][-3.255101788113279e-08,None][1.6718822735128924e-05,1]]\n",
      "reduce wl on layer 11 kernel,acc_loss: 0.0, current accuracy:0.6909999847412109, compression rate: (0.19702734529301721, 1691888)\n",
      "<quantize_complier.WlflList object at 0x7f6ecddb0ca0>[[5,5,0,0][5,5,0,0][5,5,0,0][4,4,0,0][3,4,0,0][3,4,0,0][4,4,0,0][6,6,0,0][6,6,0,0][5,5,0,0][3,4,0,0][5,6,0,0][5,5,0,0][7,7,0,0][7,7,0,0][6,6,0,0][6,6,0,0][7,7,0,0][8,8,0,0][5,4,0,0]]\n",
      "<quantize_complier.AccuracyLossPerBitList object at 0x7f6eb0372490>[[7.870434274082072e-06,None][2.5173649191856384e-06,None][2.560774873927585e-06,None][1.6493205521328491e-06,None][2.8211829885549378e-06,None][4.036455720779486e-06,None][1.432296471648442e-06,None][2.821260522978264e-07,None][3.255101788113279e-08,None][4.123301380332123e-07,None][8.897558245735127e-07,None][-1.627615517918457e-07,None][6.618922725465382e-07,None][-4.882652504534235e-08,None][-5.4246305225547076e-09,None][1.0850878418011689e-08,None][-1.8988632888294887e-08,None][-2.4413262522671175e-08,None][-4.6115019358694553e-08,None][1.6875006622285582e-05,1]]\n",
      "reduce wl on layer 18 kernel,acc_loss: 0.0, current accuracy:0.6897000074386597, compression rate: (0.19273438024043585, 1655024)\n",
      "<quantize_complier.WlflList object at 0x7f6ecddb0ca0>[[5,5,0,0][5,5,0,0][5,5,0,0][4,4,0,0][3,4,0,0][3,4,0,0][4,4,0,0][6,6,0,0][6,6,0,0][5,5,0,0][3,4,0,0][5,5,0,0][5,5,0,0][7,7,0,0][7,7,0,0][6,6,0,0][6,6,0,0][7,7,0,0][7,8,0,0][5,4,0,0]]\n",
      "<quantize_complier.AccuracyLossPerBitList object at 0x7f6eb0372490>[[7.407394605252193e-06,None][2.3871607481851242e-06,None][2.343750793443178e-06,None][1.5191164948191727e-06,None][3.168411240039859e-06,None][5.295138180372305e-06,None][2.213546849816339e-06,None][0.0,None][1.410630261489132e-07,None][3.7977912370479316e-07,None][9.657168220655876e-07,None][1.410630261489132e-07,None][4.665796780045639e-07,None][-3.255101788113279e-08,None][5.426247451367772e-09,None][4.3403513672046756e-08,None][-8.137754470283198e-09,None][-3.7977265776589775e-08,None][-7.052828010500889e-08,None][1.6093812519102357e-05,1]]\n",
      "reduce wl on layer 13 kernel,acc_loss: 0.0, current accuracy:0.6880000233650208, compression rate: (0.19058789771414517, 1636592)\n",
      "<quantize_complier.WlflList object at 0x7f6ecddb0ca0>[[5,5,0,0][5,5,0,0][5,5,0,0][4,4,0,0][3,4,0,0][3,4,0,0][4,4,0,0][6,6,0,0][6,6,0,0][5,5,0,0][3,4,0,0][5,5,0,0][5,5,0,0][6,7,0,0][7,7,0,0][6,6,0,0][6,6,0,0][7,7,0,0][7,7,0,0][5,4,0,0]]\n",
      "<quantize_complier.AccuracyLossPerBitList object at 0x7f6eb0372490>[[7.407394605252193e-06,None][2.300366759300232e-06,None][2.864592943296884e-06,None][1.6927046999626327e-06,None][3.125001057924237e-06,None][5.164934009371791e-06,None][2.0399327240738785e-06,None][6.510203576226559e-08,None][1.1935804877793998e-07,None][3.6892663501930656e-07,None][9.548643902235199e-07,None][1.1935804877793998e-07,None][4.014776493477257e-07,None][-4.882652504534235e-08,None][1.356400147756176e-08,None][3.7977265776589775e-08,None][-1.0850878418011689e-08,None][-4.0690387947961426e-08,None][-4.34018971873229e-08,None][1.7031281458912417e-05,1]]\n",
      "reduce wl on layer 13 kernel,acc_loss: 0.0, current accuracy:0.6890000104904175, compression rate: (0.18844141518785448, 1618160)\n",
      "<quantize_complier.WlflList object at 0x7f6ecddb0ca0>[[5,5,0,0][5,5,0,0][5,5,0,0][4,4,0,0][3,4,0,0][3,4,0,0][4,4,0,0][6,6,0,0][6,6,0,0][5,5,0,0][3,4,0,0][5,5,0,0][5,5,0,0][5,6,0,0][7,7,0,0][6,6,0,0][6,6,0,0][7,7,0,0][7,7,0,0][5,4,0,0]]\n",
      "<quantize_complier.AccuracyLossPerBitList object at 0x7f6eb0372490>[[8.101954335870687e-06,None][2.951387159555452e-06,None][2.864592943296884e-06,None][1.7361146547045792e-06,None][3.8194575608940795e-06,None][5.6423659771098755e-06,None][1.7361146547045792e-06,None][1.9531904627001495e-07,None][1.0852494902735543e-08,None][5.316881583894428e-07,None][7.812502644810593e-07,None][1.302105374634266e-07,None][5.425342237685982e-07,None][-8.138077589592285e-08,None][1.0850878418011689e-08,None][2.441488078375187e-08,None][4.0690387947961426e-08,None][-2.9839512194484996e-08,None][-8.137754470283198e-09,None][1.6249996406259015e-05,1]]\n",
      "reduce wl on layer 8 kernel,acc_loss: 0.0, current accuracy:0.6708999872207642, compression rate: (0.18736817392470914, 1608944)\n",
      "<quantize_complier.WlflList object at 0x7f6ecddb0ca0>[[5,5,0,0][5,5,0,0][5,5,0,0][4,4,0,0][3,4,0,0][3,4,0,0][4,4,0,0][6,6,0,0][5,6,0,0][5,5,0,0][3,4,0,0][5,5,0,0][5,5,0,0][5,5,0,0][7,7,0,0][6,6,0,0][6,6,0,0][7,7,0,0][7,7,0,0][5,4,0,0]]\n",
      "<quantize_complier.AccuracyLossPerBitList object at 0x7f6eb0372490>[[1.0879641195060685e-05,None][2.343750793443178e-06,None][1.4757065400772262e-06,None][1.0416842997074127e-06,None][2.343750793443178e-06,None][4.296889528632164e-06,None][2.083342678815825e-06,None][8.680702734409351e-08,None][-7.595453155317955e-08,None][2.712671118842991e-07,None][7.812502644810593e-07,None][8.680702734409351e-08,None][5.425342237685982e-07,None][1.1935804877793998e-07,None][1.0850878418011689e-08,None][2.1701756836023378e-08,None][1.627712542529025e-08,None][-2.1700138574942684e-08,None][0.0,None][1.3281312021717895e-05,1]]\n",
      "reduce wl on layer 17 kernel,acc_loss: 0.0, current accuracy:0.6834999918937683, compression rate: (0.18307520887212778, 1572080)\n",
      "<quantize_complier.WlflList object at 0x7f6ecddb0ca0>[[5,5,0,0][5,5,0,0][5,5,0,0][4,4,0,0][3,4,0,0][3,4,0,0][4,4,0,0][6,6,0,0][5,5,0,0][5,5,0,0][3,4,0,0][5,5,0,0][5,5,0,0][5,5,0,0][7,7,0,0][6,6,0,0][6,6,0,0][6,7,0,0][7,7,0,0][5,4,0,0]]\n",
      "<quantize_complier.AccuracyLossPerBitList object at 0x7f6eb0372490>[[6.250071237445809e-06,None][2.473954964443692e-06,None][1.9097287804470398e-06,None][1.8663187120182556e-06,None][2.1701368950743927e-06,None][5.555571988224983e-06,None][2.343750793443178e-06,None][3.038181262127182e-07,None][2.0182342268526554e-06,None][8.680702734409351e-08,None][9.331593560091278e-07,None][3.255101788113279e-08,None][3.038181262127182e-07,None][8.138077589592285e-08,None][-8.137754470283198e-09,None][3.7977265776589775e-08,None][2.9839512194484996e-08,None][-5.967902438896999e-08,None][5.426247451367772e-09,None][1.7187558114528656e-05,1]]\n",
      "reduce wl on layer 14 kernel,acc_loss: 0.0, current accuracy:0.6855999827384949, compression rate: (0.1787822438195464, 1535216)\n",
      "<quantize_complier.WlflList object at 0x7f6ecddb0ca0>[[5,5,0,0][5,5,0,0][5,5,0,0][4,4,0,0][3,4,0,0][3,4,0,0][4,4,0,0][6,6,0,0][5,5,0,0][5,5,0,0][3,4,0,0][5,5,0,0][5,5,0,0][5,5,0,0][6,7,0,0][6,6,0,0][6,6,0,0][6,6,0,0][7,7,0,0][5,4,0,0]]\n",
      "<quantize_complier.AccuracyLossPerBitList object at 0x7f6eb0372490>[[9.027758096635807e-06,None][1.6493205521328491e-06,None][1.7361146547045792e-06,None][1.5625005289621186e-06,None][1.996522769331932e-06,None][5.121523827256169e-06,None][2.300366759300232e-06,None][2.821260522978264e-07,None][1.8880236893892288e-06,None][-2.169852209021883e-08,None][1.0091139301948715e-06,None][1.0852494902735543e-08,None][3.6892663501930656e-07,None][4.3403513672046756e-08,None][-2.7126386470399666e-08,None][-1.3562384992837906e-08,None][-2.7115067968708217e-09,None][-1.8988632888294887e-08,None][-1.3562384992837906e-08,None][1.6093812519102357e-05,1]]\n",
      "reduce wl on layer 11 kernel,acc_loss: 0.0, current accuracy:0.6890000104904175, compression rate: (0.17770900255640107, 1526000)\n",
      "<quantize_complier.WlflList object at 0x7f6ecddb0ca0>[[5,5,0,0][5,5,0,0][5,5,0,0][4,4,0,0][3,4,0,0][3,4,0,0][4,4,0,0][6,6,0,0][5,5,0,0][5,5,0,0][3,4,0,0][4,5,0,0][5,5,0,0][5,5,0,0][6,6,0,0][6,6,0,0][6,6,0,0][6,6,0,0][7,7,0,0][5,4,0,0]]\n",
      "<quantize_complier.AccuracyLossPerBitList object at 0x7f6eb0372490>[[1.0879641195060685e-05,None][2.690979044928099e-06,None][1.8663187120182556e-06,None][1.7795246094465256e-06,None][1.6493205521328491e-06,None][5.685776159225497e-06,None][1.822934564188472e-06,None][4.991371724827331e-07,None][1.8880236893892288e-06,None][9.765952313500748e-08,None][1.0633698366291355e-06,None][-8.680055429977074e-08,None][3.9062513224052964e-07,None][1.573353074491024e-07,None][-6.510364869427576e-08,None][2.712800295512352e-08,None][-1.0850878418011689e-08,None][3.255263436585665e-08,None][-2.7115067968708217e-09,None][1.4687515431432985e-05,1]]\n",
      "reduce wl on layer 14 kernel,acc_loss: 0.0, current accuracy:0.683899998664856, compression rate: (0.1734160375038197, 1489136)\n",
      "<quantize_complier.WlflList object at 0x7f6ecddb0ca0>[[5,5,0,0][5,5,0,0][5,5,0,0][4,4,0,0][3,4,0,0][3,4,0,0][4,4,0,0][6,6,0,0][5,5,0,0][5,5,0,0][3,4,0,0][4,5,0,0][5,5,0,0][5,5,0,0][5,6,0,0][6,6,0,0][6,6,0,0][6,6,0,0][7,7,0,0][5,4,0,0]]\n",
      "<quantize_complier.AccuracyLossPerBitList object at 0x7f6eb0372490>[[5.555649750021985e-06,None][2.9080028980388306e-06,None][3.6458432077779435e-06,None][1.9097287804470398e-06,None][2.690979044928099e-06,None][6.336822480079718e-06,None][2.8211829885549378e-06,None][6.72751184538356e-07,None][2.278648935316596e-06,None][3.472216292266239e-07,None][1.171875396721589e-06,None][3.472216292266239e-07,None][5.208356697039562e-07,None][1.7903705895605526e-07,None][-2.7126386470399666e-08,None][5.696589866488466e-08,None][3.255263436585665e-08,None][7.324302231381807e-08,None][8.137754470283198e-09,None][1.6093812519102357e-05,1]]\n",
      "reduce wl on layer 18 kernel,acc_loss: 0.0, current accuracy:0.6891000270843506, compression rate: (0.16912307245123834, 1452272)\n",
      "<quantize_complier.WlflList object at 0x7f6ecddb0ca0>[[5,5,0,0][5,5,0,0][5,5,0,0][4,4,0,0][3,4,0,0][3,4,0,0][4,4,0,0][6,6,0,0][5,5,0,0][5,5,0,0][3,4,0,0][4,5,0,0][5,5,0,0][5,5,0,0][5,5,0,0][6,6,0,0][6,6,0,0][6,6,0,0][6,7,0,0][5,4,0,0]]\n",
      "<quantize_complier.AccuracyLossPerBitList object at 0x7f6eb0372490>[[6.712973117828369e-06,None][2.8211829885549378e-06,None][2.6041848286695313e-06,None][2.5173649191856384e-06,None][2.6475690901861526e-06,None][5.685776159225497e-06,None][2.8211829885549378e-06,None][2.1704989805471087e-08,None][1.9965291357948445e-06,None][2.712671118842991e-07,None][9.331593560091278e-07,None][5.425600591024704e-08,None][3.7977912370479316e-07,None][1.1935804877793998e-07,None][1.8988794181495905e-07,None][4.611663584341841e-08,None][0.0,None][3.7977265776589775e-08,None][-2.1700138574942684e-08,None][1.5624984371243045e-05,1]]\n",
      "reduce wl on layer 18 kernel,acc_loss: 0.0, current accuracy:0.6895999908447266, compression rate: (0.16483010739865694, 1415408)\n",
      "<quantize_complier.WlflList object at 0x7f6ecddb0ca0>[[5,5,0,0][5,5,0,0][5,5,0,0][4,4,0,0][3,4,0,0][3,4,0,0][4,4,0,0][6,6,0,0][5,5,0,0][5,5,0,0][3,4,0,0][4,5,0,0][5,5,0,0][5,5,0,0][5,5,0,0][6,6,0,0][6,6,0,0][6,6,0,0][5,6,0,0][5,4,0,0]]\n",
      "<quantize_complier.AccuracyLossPerBitList object at 0x7f6eb0372490>[[6.250071237445809e-06,None][2.690979044928099e-06,None][2.560774873927585e-06,None][2.5173649191856384e-06,None][2.560774873927585e-06,None][5.208343736740062e-06,None][2.690979044928099e-06,None][4.340997961094217e-08,None][1.909722186610452e-06,None][2.3871609755587997e-07,None][9.657168220655876e-07,None][9.765952313500748e-08,None][4.882846837972465e-07,None][9.223327168683682e-08,None][2.061634489791686e-07,None][4.3403513672046756e-08,None][-2.7115067968708217e-09,None][1.356400147756176e-08,None][-3.255101788113279e-08,None][1.4062505215406418e-05,1]]\n",
      "reduce wl on layer 7 kernel,acc_loss: 0.0, current accuracy:0.6769000291824341, compression rate: (0.16429348676708427, 1410800)\n",
      "<quantize_complier.WlflList object at 0x7f6ecddb0ca0>[[5,5,0,0][5,5,0,0][5,5,0,0][4,4,0,0][3,4,0,0][3,4,0,0][4,4,0,0][5,6,0,0][5,5,0,0][5,5,0,0][3,4,0,0][4,5,0,0][5,5,0,0][5,5,0,0][5,5,0,0][6,6,0,0][6,6,0,0][6,6,0,0][5,5,0,0][5,4,0,0]]\n",
      "<quantize_complier.AccuracyLossPerBitList object at 0x7f6eb0372490>[[5.555649750021985e-06,None][3.0382070690393448e-06,None][2.951387159555452e-06,None][2.690979044928099e-06,None][2.430570930300746e-06,None][5.5989562497416046e-06,None][2.9947971142973984e-06,None][-4.339704418043766e-08,None][2.0182342268526554e-06,None][2.712671118842991e-07,None][1.095920879379264e-06,None][2.2786359465953865e-07,None][4.123301380332123e-07,None][1.4105980028489284e-07,None][2.0345032680779696e-07,None][5.696589866488466e-08,None][-1.3562384992837906e-08,None][1.356400147756176e-08,None][2.9839512194484996e-08,None][1.4218780961527955e-05,1]]\n",
      "reduce wl on layer 15 kernel,acc_loss: 0.0, current accuracy:0.6861000061035156, compression rate: (0.1600005217145029, 1373936)\n",
      "<quantize_complier.WlflList object at 0x7f6ecddb0ca0>[[5,5,0,0][5,5,0,0][5,5,0,0][4,4,0,0][3,4,0,0][3,4,0,0][4,4,0,0][5,5,0,0][5,5,0,0][5,5,0,0][3,4,0,0][4,5,0,0][5,5,0,0][5,5,0,0][5,5,0,0][5,6,0,0][6,6,0,0][6,6,0,0][5,5,0,0][5,4,0,0]]\n",
      "<quantize_complier.AccuracyLossPerBitList object at 0x7f6eb0372490>[[7.176012786658248e-06,None][4.427093699632678e-06,None][4.123275630263379e-06,None][1.822934564188472e-06,None][4.079865448147757e-06,None][6.293412297964096e-06,None][3.2986151836666977e-06,None][4.5138876885175705e-06,None][2.2460978925664676e-06,None][5.859376983607945e-07,None][9.657168220655876e-07,None][2.1701755770209274e-07,None][4.99130692332983e-07,None][1.1393179732976932e-07,None][2.115896933219119e-07,None][0.0,None][8.137754470283198e-09,None][3.7977265776589775e-08,None][4.611663584341841e-08,None][2.0156241589575075e-05,1]]\n",
      "reduce wl on layer 16 kernel,acc_loss: 0.0017000436782836914, current accuracy:0.6855999827384949, compression rate: (0.15570755666192154, 1337072)\n",
      "<quantize_complier.WlflList object at 0x7f6ecddb0ca0>[[5,5,0,0][5,5,0,0][5,5,0,0][4,4,0,0][3,4,0,0][3,4,0,0][4,4,0,0][5,5,0,0][5,5,0,0][5,5,0,0][3,4,0,0][4,5,0,0][5,5,0,0][5,5,0,0][5,5,0,0][5,5,0,0][5,6,0,0][6,6,0,0][5,5,0,0][5,4,0,0]]\n",
      "<quantize_complier.AccuracyLossPerBitList object at 0x7f6eb0372490>[[9.027758096635807e-06,None][3.7760473787784576e-06,None][3.168411240039859e-06,None][1.822934564188472e-06,None][2.9947971142973984e-06,None][5.989594228594797e-06,None][3.602433253035997e-06,None][4.5138876885175705e-06,None][2.4197054244723404e-06,None][3.6892663501930656e-07,None][1.0633698366291355e-06,None][3.9062513224052964e-07,None][6.727447612320248e-07,None][1.302105374634266e-07,None][1.437729224562645e-07,None][1.3020891742598906e-07,None][4.611663584341841e-08,None][4.611663584341841e-08,None][4.611663584341841e-08,None][1.8593762433738448e-05,1]]\n",
      "=========Finial Tunne=========\n",
      "Epoch: 0/1\n",
      "  156/1531 |==***********************|  - train_acc: 0.8337 - train_loss: 0.4737 - val_acc: NA    - val_loss: NA   \n",
      "Epoch: 0/1\n",
      "  156/1531 |==***********************|  - train_acc: 0.8980 - train_loss: 0.3085 - val_acc: NA    - val_loss: NA   \n",
      "Epoch: 0/1\n",
      "  156/1531 |==***********************|  - train_acc: 0.9213 - train_loss: 0.2268 - val_acc: NA    - val_loss: NA   \n",
      "Epoch: 0/1\n",
      "  156/1531 |==***********************|  - train_acc: 0.9315 - train_loss: 0.2056 - val_acc: NA    - val_loss: NA   \n",
      "Epoch: 0/1\n",
      "  156/1531 |==***********************|  - train_acc: 0.9385 - train_loss: 0.1908 - val_acc: NA    - val_loss: NA   \n",
      "Epoch: 0/1\n",
      "  156/1531 |==***********************|  - train_acc: 0.9453 - train_loss: 0.1620 - val_acc: NA    - val_loss: NA   \n",
      "Epoch: 0/1\n",
      "  156/1531 |==***********************|  - train_acc: 0.9489 - train_loss: 0.1536 - val_acc: NA    - val_loss: NA   \n",
      "Epoch: 0/1\n",
      "  156/1531 |==***********************|  - train_acc: 0.9463 - train_loss: 0.1595 - val_acc: NA    - val_loss: NA   \n"
     ]
    },
    {
     "output_type": "execute_result",
     "data": {
      "text/plain": [
       "(<qunatize_resnet20.Resnet20 at 0x7f6ece3f22b0>,\n",
       " <quantize_complier.WlflList at 0x7f6ecddb0ca0>)"
      ]
     },
     "metadata": {},
     "execution_count": 73
    }
   ],
   "source": [
    "q_complier = qc.QunatizeComplier(model_q,full_model,q_layers,train_fn,test_fn,verbose=True,target_compression=1.2,max_loss=0.005)\n",
    "q_complier.quantize_model()"
   ]
  },
  {
   "cell_type": "code",
   "execution_count": 74,
   "metadata": {},
   "outputs": [
    {
     "output_type": "stream",
     "name": "stdout",
     "text": [
      "INFO:tensorflow:Assets written to: complier_tmp/max_loss_0005_deep_compressed_resnet20_model/assets\n"
     ]
    }
   ],
   "source": [
    "\n",
    "model_save_path = 'complier_tmp/max_loss_0005_deep_compressed_resnet20_model'\n",
    "wlfl_save_path = 'complier_tmp/max_loss_0005_deep_compressed_resnet20_wlfl.txt'\n",
    "model_q.model.save_weights(model_save_path)\n",
    "tf.saved_model.save(model_q.model,model_save_path)\n",
    "q_complier.wl_agent.get_wl_list().save(wlfl_save_path)\n"
   ]
  },
  {
   "cell_type": "code",
   "execution_count": 75,
   "metadata": {
    "tags": []
   },
   "outputs": [
    {
     "output_type": "stream",
     "name": "stdout",
     "text": [
      "Loss: 1.4968599081039429,Test Accuracy: 68.5199966430664\n"
     ]
    },
    {
     "output_type": "execute_result",
     "data": {
      "text/plain": [
       "(0.15570755666192154, 1337072)"
      ]
     },
     "metadata": {},
     "execution_count": 75
    }
   ],
   "source": [
    "\n",
    "model_q.model.load_weights(model_save_path)\n",
    "q_layers = model_q.get_quantizable_layers()\n",
    "wlfl_list = qc.WlflList(len(q_layers))\n",
    "wlfl_list.load(wlfl_save_path)\n",
    "q_complier.fl_agent.apply_wlfl_to_layers(q_layers,wlfl_list)\n",
    "solver = Solver(model_q,data_set,train_options)\n",
    "solver.test_model(X_test,y_test)\n",
    "q_complier.wl_agent.get_compression_rate()\n"
   ]
  },
  {
   "cell_type": "code",
   "execution_count": 76,
   "metadata": {},
   "outputs": [
    {
     "output_type": "stream",
     "name": "stdout",
     "text": [
      "Loss: 0.788412868976593,Test Accuracy: 79.06735229492188\n"
     ]
    },
    {
     "output_type": "execute_result",
     "data": {
      "text/plain": [
       "(<tf.Tensor: shape=(), dtype=float32, numpy=0.78841287>,\n",
       " <tf.Tensor: shape=(), dtype=float32, numpy=0.7906735>)"
      ]
     },
     "metadata": {},
     "execution_count": 76
    }
   ],
   "source": [
    "solver.test_model(X_train,y_train)"
   ]
  }
 ]
}