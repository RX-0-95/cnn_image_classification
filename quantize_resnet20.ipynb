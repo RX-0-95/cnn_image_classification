{
 "metadata": {
  "language_info": {
   "codemirror_mode": {
    "name": "ipython",
    "version": 3
   },
   "file_extension": ".py",
   "mimetype": "text/x-python",
   "name": "python",
   "nbconvert_exporter": "python",
   "pygments_lexer": "ipython3",
   "version": "3.8.10"
  },
  "orig_nbformat": 2,
  "kernelspec": {
   "name": "python3810jvsc74a57bd01e176acbd42c1e3e7f101af43ec62a5c4debfebb92accde047567277d89b2ce2",
   "display_name": "Python 3.8.10 64-bit ('tf-gpu': conda)"
  }
 },
 "nbformat": 4,
 "nbformat_minor": 2,
 "cells": [
  {
   "cell_type": "code",
   "execution_count": 510,
   "metadata": {},
   "outputs": [
    {
     "output_type": "stream",
     "name": "stdout",
     "text": [
      "The autoreload extension is already loaded. To reload it, use:\n",
      "  %reload_ext autoreload\n",
      "Train data shape:  (49000, 32, 32, 3)\n",
      "Train labels shape:  (49000,) int64\n",
      "Validation data shape:  (1000, 32, 32, 3)\n",
      "Validation labels shape:  (1000,)\n",
      "Test data shape:  (10000, 32, 32, 3)\n",
      "Test labels shape:  (10000,)\n"
     ]
    }
   ],
   "source": [
    "\n",
    "import gzip, shutil\n",
    "import os \n",
    "import data_utils as du \n",
    "import tensorflow as tf \n",
    "from tensorflow import keras \n",
    "import numpy as np \n",
    "from six.moves import cPickle as pickle\n",
    "import numpy as np\n",
    "import os\n",
    "from matplotlib.pyplot import imread\n",
    "import matplotlib.pyplot as plt \n",
    "import platform\n",
    "import data_utils as du \n",
    "from cnn_model import *\n",
    "from solver import Solver\n",
    "%load_ext autoreload\n",
    "%autoreload 2\n",
    "%matplotlib inline\n",
    "%reload_ext autoreload\n",
    "plt.rcParams['figure.figsize'] = (15.0, 15.0) # set default size of plots\n",
    "plt.rcParams['image.interpolation'] = 'nearest'\n",
    "plt.rcParams['image.cmap'] = 'gray'\n",
    "\n",
    "Data_folder = 'CIFAR10_Data'\n",
    "Data_fn = 'cifar-10-python'\n",
    "X_train, y_train, X_val, y_val, X_test, y_test = du.get_CIFAR10_data(subtract_mean =True)\n",
    "print('Train data shape: ', X_train.shape)\n",
    "print('Train labels shape: ', y_train.shape, y_train.dtype)\n",
    "print('Validation data shape: ', X_val.shape)\n",
    "print('Validation labels shape: ', y_val.shape)\n",
    "print('Test data shape: ', X_test.shape)\n",
    "print('Test labels shape: ', y_test.shape)\n"
   ]
  },
  {
   "cell_type": "code",
   "execution_count": 511,
   "metadata": {},
   "outputs": [],
   "source": [
    "import qunatize_resnet20 as q_res\n",
    "import quantize_layers as ql\n",
    "data_set = {\n",
    "    'train_data': X_train,\n",
    "    'train_label': y_train,\n",
    "    'val_data':X_val,\n",
    "    'val_label':y_val,\n",
    "}\n",
    "train_options = {\n",
    "    'optimizer': 'adam',\n",
    "    'lr': 0.001,\n",
    "    'epoch_num': 20,\n",
    "    'from_logits':True,\n",
    "    'save_dir': 'resnet20_model'\n",
    "}\n",
    "qunatizer = ql.ModelQunatize() \n",
    "q_res20_model = q_res.Resnet20(quantizer=qunatizer)\n",
    "\n",
    "solver = Solver(q_res20_model,data_set,train_options,save_model=True)\n",
    "#solver.train()"
   ]
  },
  {
   "cell_type": "code",
   "execution_count": 512,
   "metadata": {},
   "outputs": [
    {
     "output_type": "stream",
     "name": "stdout",
     "text": [
      "Loss: 2319.7626953125,Test Accuracy: 10.0\n"
     ]
    },
    {
     "output_type": "execute_result",
     "data": {
      "text/plain": [
       "(<tf.Tensor: shape=(), dtype=float32, numpy=2319.7627>,\n",
       " <tf.Tensor: shape=(), dtype=float32, numpy=0.1>)"
      ]
     },
     "metadata": {},
     "execution_count": 512
    }
   ],
   "source": [
    "solver.test_model(X_test,y_test)"
   ]
  },
  {
   "source": [
    "## Show layers and quantizable layers "
   ],
   "cell_type": "markdown",
   "metadata": {}
  },
  {
   "cell_type": "code",
   "execution_count": 512,
   "metadata": {
    "tags": []
   },
   "outputs": [],
   "source": [
    "\n",
    "\n",
    "\n",
    "\n",
    "\n"
   ]
  },
  {
   "cell_type": "code",
   "execution_count": 513,
   "metadata": {},
   "outputs": [],
   "source": [
    "import tensorflow_hub as hub \n",
    "import quantize_util as qu \n",
    "#prepare quntize model model_q\n",
    "qunatizer = ql.ModelQunatize()\n",
    "model_path = 'resnet20_model/trained_15'\n",
    "full_model = hub.KerasLayer(model_path,trainable=True)\n",
    "model_q = q_res.Resnet20(qunatizer)\n",
    "qu.copy_weight(model_q,full_model)\n",
    "\n",
    "train_options = {\n",
    "    'optimizer': 'adam',\n",
    "    'lr': 0.001,\n",
    "    'epoch_num': 20,\n",
    "    'from_logits':True,\n",
    "    'save_dir': 'resnet20_model'\n",
    "}\n",
    "solver = Solver(model_q,data_set,train_options,save_model=True)\n",
    "\n",
    "\n"
   ]
  },
  {
   "cell_type": "code",
   "execution_count": 514,
   "metadata": {},
   "outputs": [
    {
     "output_type": "stream",
     "name": "stdout",
     "text": [
      "Accuracy in full precision mode:\n",
      "Loss: 0.9363390803337097,Test Accuracy: 69.91000366210938\n",
      "Accuracy in wlfl mode:\n",
      "Loss: 0.9290823936462402,Test Accuracy: 69.41000366210938\n"
     ]
    }
   ],
   "source": [
    "solver = Solver(model_q,data_set,train_options,save_model=True)\n",
    "q_layer_num = model_q.get_quantizable_layer_count() \n",
    "wlfl_list = [[12,4]]*20\n",
    "qunatizer.set_wlfl_list(wlfl_list)\n",
    "qunatizer.set_full_precision_mode()\n",
    "print('Accuracy in full precision mode:')\n",
    "solver.test_model(X_test,y_test)\n",
    "\n",
    "print('Accuracy in wlfl mode:')\n",
    "qunatizer.set_quantize_mode()\n",
    "solver.test_model(X_test,y_test)\n",
    "qunatizer.set_full_precision_mode()\n",
    "\n"
   ]
  },
  {
   "source": [
    "### Test on quantize_var function "
   ],
   "cell_type": "markdown",
   "metadata": {}
  },
  {
   "cell_type": "code",
   "execution_count": 515,
   "metadata": {},
   "outputs": [
    {
     "output_type": "stream",
     "name": "stdout",
     "text": [
      "Accuracy in full precision mode:\n",
      "Loss: 0.9363390803337097,Test Accuracy: 69.91000366210938\n",
      "Accuracy in wlfl mode:\n",
      "Loss: 0.9290823936462402,Test Accuracy: 69.41000366210938\n"
     ]
    }
   ],
   "source": [
    "qunatizer.set_wlfl_list(wlfl_list)\n",
    "qunatizer.set_full_precision_mode()\n",
    "print('Accuracy in full precision mode:')\n",
    "solver.test_model(X_test,y_test)\n",
    "\n",
    "print('Accuracy in wlfl mode:')\n",
    "qunatizer.set_quantize_mode()\n",
    "solver.test_model(X_test,y_test)\n",
    "qunatizer.set_full_precision_mode()"
   ]
  },
  {
   "cell_type": "code",
   "execution_count": 516,
   "metadata": {
    "tags": []
   },
   "outputs": [
    {
     "output_type": "stream",
     "name": "stdout",
     "text": [
      "<quantize_layers.quantizeConv2D object at 0x7fda57365160>\n<quantize_layers.quantizeConv2D object at 0x7fda57369eb0>\n<quantize_layers.quantizeConv2D object at 0x7fda57365cd0>\n<quantize_layers.quantizeConv2D object at 0x7fda57371d00>\n<quantize_layers.quantizeConv2D object at 0x7fda57371040>\n<quantize_layers.quantizeConv2D object at 0x7fda5735d730>\n<quantize_layers.quantizeConv2D object at 0x7fda57386700>\n<quantize_layers.quantizeConv2D object at 0x7fda57371e20>\n<quantize_layers.quantizeConv2D object at 0x7fda59a3fdc0>\n<quantize_layers.quantizeConv2D object at 0x7fda5735ea00>\n<quantize_layers.quantizeConv2D object at 0x7fda56bd4cd0>\n<quantize_layers.quantizeConv2D object at 0x7fda59a4fbb0>\n<quantize_layers.quantizeConv2D object at 0x7fda56bdd130>\n<quantize_layers.quantizeConv2D object at 0x7fda56c038e0>\n<quantize_layers.quantizeConv2D object at 0x7fda56c0f7c0>\n<quantize_layers.quantizeConv2D object at 0x7fda5984ef40>\n<quantize_layers.quantizeConv2D object at 0x7fda5984e850>\n<quantize_layers.quantizeConv2D object at 0x7fda59817400>\n<quantize_layers.quantizeConv2D object at 0x7fda59841f10>\n<quantize_layers.quantizeDense object at 0x7fda56232730>\n<tf.Variable 'quantize_conv2d_1045/kernel:0' shape=(3, 3, 3, 16) dtype=float32, numpy=\narray([[[[-0.03953034,  0.03212732,  0.08058076,  0.4360998 ,\n          -0.30798113,  0.2512633 , -0.0421763 , -0.31119138,\n           0.02009004, -0.45123833, -0.03129359,  0.07896178,\n           0.2638417 ,  0.02292283, -0.3471505 ,  0.2231442 ],\n         [-0.23919603, -0.16176899,  0.01135234, -0.5045306 ,\n           0.40276515, -0.01827848,  0.39766827,  0.00594939,\n          -0.31354573,  0.03473083,  0.10555962, -0.42407283,\n           0.02052283,  0.20112282, -0.20537013, -0.0101853 ],\n         [ 0.36311188,  0.12317844, -0.12353028, -0.02495158,\n           0.07731401, -0.1289679 , -0.14443053, -0.17462917,\n           0.19985898,  0.08818743, -0.17899266,  0.02763722,\n           0.06076494,  0.02174114, -0.15519632,  0.16838706]],\n\n        [[-0.2652395 ,  0.1045576 ,  0.00411738,  0.16422231,\n           0.18506159, -0.27059457, -0.02821511, -0.01449516,\n           0.04443414, -0.20928118, -0.06856812,  0.09267064,\n          -0.30496526,  0.00415896,  0.08164996,  0.2537964 ],\n         [ 0.5213417 ,  0.19519092, -0.07742263, -0.10453722,\n           0.14683688,  0.1603666 , -0.00617974,  0.05101007,\n          -0.09989826,  0.03408447, -0.1974661 ,  0.32813433,\n           0.3214283 ,  0.29943717,  0.4781053 , -0.30749816],\n         [ 0.15048169,  0.01392191,  0.11604253,  0.13105775,\n          -0.44751456,  0.10300944,  0.2161149 , -0.34841123,\n          -0.23746093,  0.34865803, -0.35662055,  0.5460438 ,\n          -0.05513187, -0.30912596,  0.11589881, -0.18459715]],\n\n        [[-0.00721708,  0.11202885, -0.47174478,  0.23530625,\n          -0.23573257, -0.20637129, -0.2648413 ,  0.10289969,\n          -0.03974779, -0.25677222, -0.1865852 ,  0.56122667,\n           0.4455188 ,  0.44051084,  0.20386605, -0.14395304],\n         [-0.4586485 , -0.19596265, -0.07474646, -0.16580927,\n          -0.14621942, -0.35628727,  0.13175984,  0.26652634,\n           0.1398051 , -0.24238811, -0.22195728,  0.41282734,\n          -0.1680443 ,  0.02846272, -0.23156181, -0.11080466],\n         [ 0.12840825, -0.17831759,  0.15851831, -0.09118458,\n           0.17974958, -0.20643649,  0.2759674 ,  0.12357211,\n          -0.0065282 ,  0.33429736,  0.3201168 , -0.0780611 ,\n          -0.16660453,  0.12381644, -0.00660767, -0.17121899]]],\n\n\n       [[[-0.37392858, -0.61541754,  0.37522814, -0.11233589,\n          -0.305896  ,  0.44790357,  0.1431462 ,  0.09774332,\n          -0.09696541, -0.306663  , -0.21800092, -0.51667583,\n          -0.07857674,  0.3771027 ,  0.02653903,  0.32241684],\n         [ 0.55585617,  0.15151586, -0.2181285 , -0.10236441,\n           0.41912174, -0.09942526, -0.00182433, -0.2470895 ,\n           0.04274939, -0.03129155, -0.34477657, -0.313258  ,\n          -0.1619586 , -0.43337533, -0.4924271 , -0.217417  ],\n         [-0.32849988,  0.00192721,  0.18773411, -0.20593658,\n          -0.34708762,  0.43082073, -0.16079019,  0.04511318,\n           0.2596029 ,  0.06439757,  0.13872178,  0.16868284,\n           0.08944076,  0.06087381, -0.07187169, -0.09881442]],\n\n        [[-0.02647064, -0.5353989 ,  0.20659663,  0.12240668,\n          -0.09217696, -0.42727706, -0.18959913, -0.17943218,\n           0.08770213,  0.32021204, -0.03310769, -0.46521944,\n           0.514328  ,  0.27836853, -0.21410926,  0.21404603],\n         [ 0.46533766,  0.54088783, -0.41898847,  0.4979244 ,\n           0.3453754 ,  0.25680965,  0.271412  ,  0.5557176 ,\n          -0.04565023, -0.13604113, -0.05358012,  0.13637002,\n          -0.25988498, -0.24891205,  0.54001623,  0.09429953],\n         [-0.05684928, -0.28333724, -0.3794782 ,  0.18812898,\n          -0.22337079, -0.5589814 , -0.14518704,  0.25318488,\n          -0.08722808,  0.25334507, -0.08806251,  0.28076324,\n          -0.06655949,  0.03004178, -0.03507464,  0.343599  ]],\n\n        [[ 0.24175063, -0.0317525 ,  0.43413338, -0.1638173 ,\n           0.06877744, -0.45554057, -0.08315969, -0.6257542 ,\n           0.10034235, -0.3170511 ,  0.4001957 , -0.40346432,\n          -0.2482221 ,  0.5654767 ,  0.52078587,  0.05225522],\n         [-0.18648867,  0.20265396, -0.49898273, -0.02072302,\n          -0.12739065,  0.03991608, -0.25110608,  0.35420537,\n          -0.06975309, -0.08248597, -0.07850861, -0.12870465,\n          -0.74213165, -0.26131022, -0.04686964,  0.34708872],\n         [-0.5085626 , -0.15639704,  0.31865925, -0.2796461 ,\n          -0.13913867,  0.06531497,  0.0319712 , -0.14974344,\n           0.17650118,  0.29281536,  0.18902062, -0.51440394,\n          -0.12768696, -0.44821563, -0.00894442, -0.05782022]]],\n\n\n       [[[-0.4073978 , -0.01346285, -0.12714764,  0.4962518 ,\n          -0.52474844,  0.06253929, -0.44669056, -0.1953131 ,\n          -0.26158637,  0.03555053,  0.0846614 , -0.12469527,\n          -0.0118584 , -0.14401914, -0.14988406, -0.00746725],\n         [-0.45060626, -0.23608838, -0.29131392,  0.5580383 ,\n           0.6191862 , -0.12169633, -0.30981752,  0.04430579,\n          -0.11472892, -0.29631996,  0.07991232,  0.22276457,\n           0.350169  ,  0.0671674 ,  0.29603183, -0.2183361 ],\n         [ 0.03742973,  0.6184754 , -0.03789964,  0.51164883,\n          -0.29402393, -0.09690535,  0.17033888,  0.07414345,\n          -0.18156248,  0.22487281, -0.2684588 ,  0.08220214,\n          -0.05685293, -0.20071483,  0.396404  ,  0.10936783]],\n\n        [[ 0.09296989,  0.13014245,  0.25862074, -0.12269021,\n           0.4317034 , -0.3887506 ,  0.23553155, -0.070992  ,\n           0.07560366, -0.00688819,  0.2648766 ,  0.1056965 ,\n           0.0054318 , -0.42265186, -0.02206266, -0.04796858],\n         [-0.01042072, -0.22841497, -0.54392356, -0.15941897,\n           0.10322324,  0.51407903, -0.1270039 ,  0.18067467,\n          -0.11931562,  0.18687405,  0.14478305, -0.34389   ,\n           0.35728666, -0.4788052 , -0.44357917, -0.05272648],\n         [-0.01703518, -0.06873836,  0.50904053,  0.13816881,\n          -0.11830715, -0.05249872,  0.08803388, -0.16992816,\n          -0.13118882,  0.21827056, -0.14073312,  0.30457184,\n           0.46610162, -0.39897916,  0.24989653,  0.48867187]],\n\n        [[ 0.00202348,  0.33323634,  0.13724232, -0.19175534,\n           0.18211198,  0.4630842 , -0.21441704,  0.03048889,\n           0.64235085, -0.23749647,  0.21169025, -0.4064262 ,\n          -0.43414673, -0.13219407, -0.09337898, -0.6471406 ],\n         [-0.24736197,  0.12775087,  0.1713269 , -0.3213133 ,\n           0.11821284, -0.05834358,  0.4546505 ,  0.28820816,\n           0.395241  , -0.19055209,  0.14780313,  0.13999741,\n          -0.14534436,  0.27732596,  0.06197617,  0.09013218],\n         [ 0.524647  , -0.21246877, -0.02673999, -0.2778905 ,\n          -0.2099469 ,  0.21988721,  0.2846978 ,  0.15695886,\n           0.2516246 ,  0.45830494,  0.18053779,  0.0848883 ,\n          -0.00955251,  0.3327316 , -0.3399623 ,  0.26046288]]]],\n      dtype=float32)>\n"
     ]
    }
   ],
   "source": [
    "q_layers = model_q.get_quantizable_layers()\n",
    "for layer in q_layers:\n",
    "    #print(layer[0].kernel)\n",
    "    print(layer)\n",
    "a = np.abs(q_layers[0].kernel.numpy())\n",
    "#print(a.reshape(-1))\n",
    "c = a.reshape(-1).shape[0]\n",
    "print(q_layers[0].kernel)\n",
    "\n"
   ]
  },
  {
   "source": [
    "## Test WLsearch agent "
   ],
   "cell_type": "markdown",
   "metadata": {}
  },
  {
   "source": [
    "#### Test get_parameter_size \n"
   ],
   "cell_type": "markdown",
   "metadata": {}
  },
  {
   "cell_type": "code",
   "execution_count": 517,
   "metadata": {
    "tags": []
   },
   "outputs": [
    {
     "output_type": "stream",
     "name": "stdout",
     "text": [
      "Total trainable parameter: (268346, <quantize_complier.ParamSizeList object at 0x7fda10e1ec10>)\n=============================\n20\n32\n"
     ]
    },
    {
     "output_type": "execute_result",
     "data": {
      "text/plain": [
       "4"
      ]
     },
     "metadata": {},
     "execution_count": 517
    }
   ],
   "source": [
    "import quantize_complier as qc \n",
    "q_layers = model_q.get_quantizable_layers()\n",
    "wl_agent = qc.WLSearchAgent(model_q,full_model,q_layers)\n",
    "total_size = wl_agent.get_parameter_size()\n",
    "total_size = total_size\n",
    "print('Total trainable parameter: {}'.format(total_size))\n",
    "q_layers_copy = q_layers\n",
    "q_data = q_layers[0].kernel \n",
    "\n",
    "#print(q_layers[0].kernel)\n",
    "print('=============================')\n",
    "#print(q_data)\n",
    "print(len(wl_agent.layers_param_list))\n",
    "print(wl_agent.wl_list.layer(15).kernel_wl)\n",
    "wl_agent.get_intger_bits(-3)\n",
    "\n"
   ]
  },
  {
   "source": [
    "### Test init_search and compression_rate"
   ],
   "cell_type": "markdown",
   "metadata": {}
  },
  {
   "cell_type": "code",
   "execution_count": 518,
   "metadata": {},
   "outputs": [
    {
     "output_type": "stream",
     "name": "stdout",
     "text": [
      "<quantize_complier.WlflList object at 0x7fda598d2400>[[8,16,0,16][8,16,0,16][8,16,0,16][8,16,0,16][8,16,0,16][8,16,0,16][8,16,0,16][8,16,0,16][8,16,0,16][8,16,0,16][8,16,0,16][8,16,0,16][8,16,0,16][8,16,0,16][8,16,0,16][8,16,0,16][8,16,0,16][8,16,0,16][8,16,0,16][8,16,8,16]]\n<quantize_complier.ParamSizeList object at 0x7fda10e1e9a0>[[432,0][2304,0][2304,0][2304,0][2304,0][2304,0][2304,0][4608,0][9216,0][9216,0][9216,0][9216,0][9216,0][18432,0][36864,0][36864,0][36864,0][36864,0][36864,0][640,10]]\n"
     ]
    }
   ],
   "source": [
    "wl_agent.init_search()\n",
    "print(wl_agent.wl_list)\n",
    "wl_agent.get_compression_rate()\n",
    "print(wl_agent.parameter_size_list)"
   ]
  },
  {
   "source": [],
   "cell_type": "code",
   "metadata": {},
   "execution_count": null,
   "outputs": []
  },
  {
   "source": [
    "## Test SerachFL agent "
   ],
   "cell_type": "markdown",
   "metadata": {}
  },
  {
   "source": [
    "### Test search_layer_fl"
   ],
   "cell_type": "markdown",
   "metadata": {}
  },
  {
   "cell_type": "code",
   "execution_count": 519,
   "metadata": {},
   "outputs": [
    {
     "output_type": "stream",
     "name": "stdout",
     "text": [
      "20\n",
      "20\n",
      "<quantize_complier.WlflList object at 0x7fda598d2400>[[8,7,0,0][8,8,0,0][8,8,0,0][8,8,0,0][8,8,0,0][8,8,0,0][8,8,0,0][8,8,0,0][8,8,0,0][8,8,0,0][8,8,0,0][8,8,0,0][8,8,0,0][8,8,0,0][8,8,0,0][8,8,0,0][8,8,0,0][8,8,0,0][8,8,0,0][8,8,8,7]]\n",
      "restore full precision weight\n",
      "Manual set wlfl\n",
      "<quantize_complier.WlflList object at 0x7fda598d2400>[[8,4,8,4][8,4,8,4][8,4,8,4][8,4,8,4][8,4,8,4][8,4,8,4][8,4,8,4][8,4,8,4][8,4,8,4][8,4,8,4][8,4,8,4][8,4,8,4][8,4,8,4][8,4,8,4][8,4,8,4][8,4,8,4][8,4,8,4][8,4,8,4][8,4,8,4][8,4,8,4]]\n",
      "restore weight\n",
      "<quantize_complier.WlflList object at 0x7fda598d2400>[[8,4,8,4][8,4,8,4][8,4,8,4][8,4,8,4][8,4,8,4][8,4,8,4][8,4,8,4][8,4,8,4][8,4,8,4][8,4,8,4][8,4,8,4][8,4,8,4][8,4,8,4][8,4,8,4][8,4,8,4][8,4,8,4][8,4,8,4][8,4,8,4][8,4,8,4][8,4,8,4]]\n",
      "research\n",
      "<quantize_complier.WlflList object at 0x7fda598d2400>[[8,7,8,0][8,8,8,0][8,8,8,0][8,8,8,0][8,8,8,0][8,8,8,0][8,8,8,0][8,8,8,0][8,8,8,0][8,8,8,0][8,8,8,0][8,8,8,0][8,8,8,0][8,8,8,0][8,8,8,0][8,8,8,0][8,8,8,0][8,8,8,0][8,8,8,0][8,8,8,7]]\n"
     ]
    },
    {
     "output_type": "execute_result",
     "data": {
      "text/plain": [
       "(0.25, 2146768)"
      ]
     },
     "metadata": {},
     "execution_count": 519
    }
   ],
   "source": [
    "#q_layers = wl_agent.get_quantize_layers()\n",
    "\n",
    "data_set = {\n",
    "    'train_data': X_train,\n",
    "    'train_label': y_train,\n",
    "    'val_data':X_val,\n",
    "    'val_label':y_val,\n",
    "}\n",
    "train_options = {\n",
    "    'optimizer': 'adam',\n",
    "    'lr': 0.001,\n",
    "    'epoch_num': 20,\n",
    "    'from_logits':True,\n",
    "    'save_dir': 'resnet20_model',\n",
    "    \n",
    "}\n",
    "def acc_fn(model):\n",
    "    solver = Solver(model_q,data_set,save_model=False,verbose=False)\n",
    "    return solver.test_model(X_test,y_test)\n",
    "    \n",
    "fl_agent = qc.FlSerachAgent(model_q,solver,acc_fn)\n",
    "print(len(wl_agent.get_wl_list()))\n",
    "print(len(q_layers))\n",
    "fl_agent.search_layers_fl(q_layers,wl_agent.get_wl_list())\n",
    "print(wl_agent.get_wl_list())\n",
    "fl_agent.apply_wlfl_to_layers(q_layers,wl_agent.get_wl_list())\n",
    "fl_agent.model_accuracy()\n",
    "print('restore full precision weight')\n",
    "wl_agent.restore_model_weight()\n",
    "fl_agent.model_accuracy()\n",
    "print('Manual set wlfl')\n",
    "wl_agent.get_wl_list().set_all_to(8,4)\n",
    "print(wl_agent.get_wl_list())\n",
    "fl_agent.apply_wlfl_to_layers(q_layers,wl_agent.get_wl_list())\n",
    "fl_agent.model_accuracy()\n",
    "print('restore weight')\n",
    "wl_agent.restore_model_weight() \n",
    "print(wl_agent.get_wl_list())\n",
    "fl_agent.model_accuracy()\n",
    "print('research')\n",
    "fl_agent.search_layers_fl(q_layers,wl_agent.get_wl_list())\n",
    "print(wl_agent.get_wl_list())\n",
    "fl_agent.apply_wlfl_to_layers(q_layers,wl_agent.get_wl_list())\n",
    "fl_agent.model_accuracy()\n",
    "wl_agent.get_compression_rate()\n"
   ]
  },
  {
   "source": [
    "### Test on update_accuracy_loss_per_bit_list\n"
   ],
   "cell_type": "markdown",
   "metadata": {}
  },
  {
   "cell_type": "code",
   "execution_count": 520,
   "metadata": {},
   "outputs": [
    {
     "output_type": "stream",
     "name": "stdout",
     "text": [
      "tf.Tensor(0.6991, shape=(), dtype=float32)\n",
      "wlfl after Init search\n",
      "<quantize_complier.WlflList object at 0x7fda598d2400>[[8,7,0,0][8,8,0,0][8,8,0,0][8,8,0,0][8,8,0,0][8,8,0,0][8,8,0,0][8,8,0,0][8,8,0,0][8,8,0,0][8,8,0,0][8,8,0,0][8,8,0,0][8,8,0,0][8,8,0,0][8,8,0,0][8,8,0,0][8,8,0,0][8,8,0,0][8,8,8,7]]\n",
      "acc_loss per bit list\n",
      "<quantize_complier.AccuracyLossPerBitList object at 0x7fda10e1e940>[[None,None][None,None][None,None][None,None][None,None][None,None][None,None][None,None][None,None][None,None][None,None][None,None][None,None][None,None][None,None][None,None][None,None][None,None][None,None][None,None]]\n",
      "update list \n",
      "====================\n",
      "432\n",
      "<quantize_complier.AccuracyLossPerBitList object at 0x7fda10e1e940>[[-1.157323481493222e-06,None][8.681995922188435e-08,None][3.906380925400299e-07,None][2.60434006804644e-07,None][-8.679408836087532e-08,None][2.1702402364098816e-07,None][4.340997961094217e-08,None][4.557271893190773e-07,None][0.0,None][7.595453155317955e-08,None][3.255101788113279e-08,None][-6.510203576226559e-08,None][5.425600591024704e-08,None][2.712800295512352e-08,None][-1.0850878418011689e-08,None][-5.4246305225547076e-09,None][8.137754470283198e-09,None][1.0850878418011689e-08,None][0.0,None][6.250105570870801e-07,5.000233795726672e-05]]\n",
      "('kernel', 0, <tf.Tensor: shape=(), dtype=float32, numpy=-1.1573235e-06>)\n"
     ]
    }
   ],
   "source": [
    "wl_agent.restore_model_weight()\n",
    "print(fl_agent.model_accuracy())\n",
    "wl_agent.init_search()\n",
    "print(\"wlfl after Init search\")\n",
    "print(wl_agent.get_wl_list())\n",
    "print(\"acc_loss per bit list\")\n",
    "print(wl_agent.accuracy_loss_per_bit_list)\n",
    "print(\"update list \")\n",
    "print(\"====================\")\n",
    "print(wl_agent.parameter_size_list.layer(0).kernel_size)\n",
    "wl_agent.update_accuracy_loss_per_bit_list(fl_agent)\n",
    "print(wl_agent.accuracy_loss_per_bit_list)\n",
    "print(wl_agent.accuracy_loss_per_bit_list.get_smallest_apb())\n"
   ]
  },
  {
   "cell_type": "code",
   "execution_count": 521,
   "metadata": {
    "tags": []
   },
   "outputs": [],
   "source": [
    "#wl_agent.restore_model_weight()\n",
    "#ori_acc = fl_agent.model_accuracy()\n",
    "#print('Original accuracy:{}'.format(ori_acc))\n",
    "#wl_agent.init_search()\n",
    "#print(wl_agent.get_wl_list())\n",
    "#wl_agent.fine_search(fl_agent)"
   ]
  },
  {
   "cell_type": "code",
   "execution_count": 522,
   "metadata": {},
   "outputs": [
    {
     "output_type": "stream",
     "name": "stdout",
     "text": [
      "<quantize_complier.WlflList object at 0x7fda598d2400>[[6,5,0,0][5,5,0,0][5,5,0,0][2,3,0,0][4,4,0,0][4,5,0,0][3,4,0,0][6,6,0,0][5,5,0,0][5,5,0,0][6,6,0,0][4,5,0,0][5,5,0,0][5,5,0,0][5,5,0,0][4,5,0,0][4,5,0,0][3,5,0,0][2,3,0,0][5,5,2,1]]\n",
      "quantized_model acc: 0.6678000092506409\n",
      "full precision model acc:\n",
      "Loss: 0.9363390803337097,Test Accuracy: 69.91000366210938\n"
     ]
    },
    {
     "output_type": "execute_result",
     "data": {
      "text/plain": [
       "(<tf.Tensor: shape=(), dtype=float32, numpy=0.9363391>,\n",
       " <tf.Tensor: shape=(), dtype=float32, numpy=0.6991>)"
      ]
     },
     "metadata": {},
     "execution_count": 522
    }
   ],
   "source": [
    "wl_agent.restore_model_weight()\n",
    "wl_agent.wl_list.load('wlfl_list.txt')\n",
    "print(wl_agent.wl_list)\n",
    "wl_agent.restore_model_weight()\n",
    "\n",
    "fl_agent.apply_wlfl_to_layers(wl_agent.quantize_layers,wl_agent.wl_list)\n",
    "print('quantized_model acc: {}'.format(fl_agent.model_accuracy()))\n",
    "wl_agent.restore_model_weight()\n",
    "print('full precision model acc:')\n",
    "solver.test_model(X_test,y_test)\n"
   ]
  },
  {
   "cell_type": "code",
   "execution_count": 554,
   "metadata": {},
   "outputs": [
    {
     "output_type": "stream",
     "name": "stdout",
     "text": [
      "full model test acc: 0.6991000175476074\n",
      "quantized model test acc: 0.6678000092506409\n",
      "Epoch: 0/1\n",
      " 313/312 |=========================|  - train_acc: 0.8205 - train_loss: 0.5003 - val_acc: 0.6940 - val_loss: 1.0169\n"
     ]
    },
    {
     "output_type": "display_data",
     "data": {
      "text/plain": "<Figure size 1080x1080 with 2 Axes>",
      "image/svg+xml": "<?xml version=\"1.0\" encoding=\"utf-8\" standalone=\"no\"?>\n<!DOCTYPE svg PUBLIC \"-//W3C//DTD SVG 1.1//EN\"\n  \"http://www.w3.org/Graphics/SVG/1.1/DTD/svg11.dtd\">\n<!-- Created with matplotlib (https://matplotlib.org/) -->\n<svg height=\"984.75625pt\" version=\"1.1\" viewBox=\"0 0 990.98125 984.75625\" width=\"990.98125pt\" xmlns=\"http://www.w3.org/2000/svg\" xmlns:xlink=\"http://www.w3.org/1999/xlink\">\n <metadata>\n  <rdf:RDF xmlns:cc=\"http://creativecommons.org/ns#\" xmlns:dc=\"http://purl.org/dc/elements/1.1/\" xmlns:rdf=\"http://www.w3.org/1999/02/22-rdf-syntax-ns#\">\n   <cc:Work>\n    <dc:type rdf:resource=\"http://purl.org/dc/dcmitype/StillImage\"/>\n    <dc:date>2021-05-23T14:54:30.918488</dc:date>\n    <dc:format>image/svg+xml</dc:format>\n    <dc:creator>\n     <cc:Agent>\n      <dc:title>Matplotlib v3.3.4, https://matplotlib.org/</dc:title>\n     </cc:Agent>\n    </dc:creator>\n   </cc:Work>\n  </rdf:RDF>\n </metadata>\n <defs>\n  <style type=\"text/css\">*{stroke-linecap:butt;stroke-linejoin:round;}</style>\n </defs>\n <g id=\"figure_1\">\n  <g id=\"patch_1\">\n   <path d=\"M 0 984.75625 \nL 990.98125 984.75625 \nL 990.98125 -0 \nL 0 -0 \nz\n\" style=\"fill:none;\"/>\n  </g>\n  <g id=\"axes_1\">\n   <g id=\"patch_2\">\n    <path d=\"M 43.78125 947.2 \nL 424.235795 947.2 \nL 424.235795 131.8 \nL 43.78125 131.8 \nz\n\" style=\"fill:#ffffff;\"/>\n   </g>\n   <g id=\"matplotlib.axis_1\">\n    <g id=\"xtick_1\">\n     <g id=\"line2d_1\">\n      <defs>\n       <path d=\"M 0 0 \nL 0 3.5 \n\" id=\"mbc398848eb\" style=\"stroke:#000000;stroke-width:0.8;\"/>\n      </defs>\n      <g>\n       <use style=\"stroke:#000000;stroke-width:0.8;\" x=\"61.074638\" xlink:href=\"#mbc398848eb\" y=\"947.2\"/>\n      </g>\n     </g>\n     <g id=\"text_1\">\n      <!-- 0.0 -->\n      <g transform=\"translate(53.123076 961.798437)scale(0.1 -0.1)\">\n       <defs>\n        <path d=\"M 31.78125 66.40625 \nQ 24.171875 66.40625 20.328125 58.90625 \nQ 16.5 51.421875 16.5 36.375 \nQ 16.5 21.390625 20.328125 13.890625 \nQ 24.171875 6.390625 31.78125 6.390625 \nQ 39.453125 6.390625 43.28125 13.890625 \nQ 47.125 21.390625 47.125 36.375 \nQ 47.125 51.421875 43.28125 58.90625 \nQ 39.453125 66.40625 31.78125 66.40625 \nz\nM 31.78125 74.21875 \nQ 44.046875 74.21875 50.515625 64.515625 \nQ 56.984375 54.828125 56.984375 36.375 \nQ 56.984375 17.96875 50.515625 8.265625 \nQ 44.046875 -1.421875 31.78125 -1.421875 \nQ 19.53125 -1.421875 13.0625 8.265625 \nQ 6.59375 17.96875 6.59375 36.375 \nQ 6.59375 54.828125 13.0625 64.515625 \nQ 19.53125 74.21875 31.78125 74.21875 \nz\n\" id=\"DejaVuSans-48\"/>\n        <path d=\"M 10.6875 12.40625 \nL 21 12.40625 \nL 21 0 \nL 10.6875 0 \nz\n\" id=\"DejaVuSans-46\"/>\n       </defs>\n       <use xlink:href=\"#DejaVuSans-48\"/>\n       <use x=\"63.623047\" xlink:href=\"#DejaVuSans-46\"/>\n       <use x=\"95.410156\" xlink:href=\"#DejaVuSans-48\"/>\n      </g>\n     </g>\n    </g>\n    <g id=\"xtick_2\">\n     <g id=\"line2d_2\">\n      <g>\n       <use style=\"stroke:#000000;stroke-width:0.8;\" x=\"130.248192\" xlink:href=\"#mbc398848eb\" y=\"947.2\"/>\n      </g>\n     </g>\n     <g id=\"text_2\">\n      <!-- 0.2 -->\n      <g transform=\"translate(122.29663 961.798437)scale(0.1 -0.1)\">\n       <defs>\n        <path d=\"M 19.1875 8.296875 \nL 53.609375 8.296875 \nL 53.609375 0 \nL 7.328125 0 \nL 7.328125 8.296875 \nQ 12.9375 14.109375 22.625 23.890625 \nQ 32.328125 33.6875 34.8125 36.53125 \nQ 39.546875 41.84375 41.421875 45.53125 \nQ 43.3125 49.21875 43.3125 52.78125 \nQ 43.3125 58.59375 39.234375 62.25 \nQ 35.15625 65.921875 28.609375 65.921875 \nQ 23.96875 65.921875 18.8125 64.3125 \nQ 13.671875 62.703125 7.8125 59.421875 \nL 7.8125 69.390625 \nQ 13.765625 71.78125 18.9375 73 \nQ 24.125 74.21875 28.421875 74.21875 \nQ 39.75 74.21875 46.484375 68.546875 \nQ 53.21875 62.890625 53.21875 53.421875 \nQ 53.21875 48.921875 51.53125 44.890625 \nQ 49.859375 40.875 45.40625 35.40625 \nQ 44.1875 33.984375 37.640625 27.21875 \nQ 31.109375 20.453125 19.1875 8.296875 \nz\n\" id=\"DejaVuSans-50\"/>\n       </defs>\n       <use xlink:href=\"#DejaVuSans-48\"/>\n       <use x=\"63.623047\" xlink:href=\"#DejaVuSans-46\"/>\n       <use x=\"95.410156\" xlink:href=\"#DejaVuSans-50\"/>\n      </g>\n     </g>\n    </g>\n    <g id=\"xtick_3\">\n     <g id=\"line2d_3\">\n      <g>\n       <use style=\"stroke:#000000;stroke-width:0.8;\" x=\"199.421746\" xlink:href=\"#mbc398848eb\" y=\"947.2\"/>\n      </g>\n     </g>\n     <g id=\"text_3\">\n      <!-- 0.4 -->\n      <g transform=\"translate(191.470183 961.798437)scale(0.1 -0.1)\">\n       <defs>\n        <path d=\"M 37.796875 64.3125 \nL 12.890625 25.390625 \nL 37.796875 25.390625 \nz\nM 35.203125 72.90625 \nL 47.609375 72.90625 \nL 47.609375 25.390625 \nL 58.015625 25.390625 \nL 58.015625 17.1875 \nL 47.609375 17.1875 \nL 47.609375 0 \nL 37.796875 0 \nL 37.796875 17.1875 \nL 4.890625 17.1875 \nL 4.890625 26.703125 \nz\n\" id=\"DejaVuSans-52\"/>\n       </defs>\n       <use xlink:href=\"#DejaVuSans-48\"/>\n       <use x=\"63.623047\" xlink:href=\"#DejaVuSans-46\"/>\n       <use x=\"95.410156\" xlink:href=\"#DejaVuSans-52\"/>\n      </g>\n     </g>\n    </g>\n    <g id=\"xtick_4\">\n     <g id=\"line2d_4\">\n      <g>\n       <use style=\"stroke:#000000;stroke-width:0.8;\" x=\"268.5953\" xlink:href=\"#mbc398848eb\" y=\"947.2\"/>\n      </g>\n     </g>\n     <g id=\"text_4\">\n      <!-- 0.6 -->\n      <g transform=\"translate(260.643737 961.798437)scale(0.1 -0.1)\">\n       <defs>\n        <path d=\"M 33.015625 40.375 \nQ 26.375 40.375 22.484375 35.828125 \nQ 18.609375 31.296875 18.609375 23.390625 \nQ 18.609375 15.53125 22.484375 10.953125 \nQ 26.375 6.390625 33.015625 6.390625 \nQ 39.65625 6.390625 43.53125 10.953125 \nQ 47.40625 15.53125 47.40625 23.390625 \nQ 47.40625 31.296875 43.53125 35.828125 \nQ 39.65625 40.375 33.015625 40.375 \nz\nM 52.59375 71.296875 \nL 52.59375 62.3125 \nQ 48.875 64.0625 45.09375 64.984375 \nQ 41.3125 65.921875 37.59375 65.921875 \nQ 27.828125 65.921875 22.671875 59.328125 \nQ 17.53125 52.734375 16.796875 39.40625 \nQ 19.671875 43.65625 24.015625 45.921875 \nQ 28.375 48.1875 33.59375 48.1875 \nQ 44.578125 48.1875 50.953125 41.515625 \nQ 57.328125 34.859375 57.328125 23.390625 \nQ 57.328125 12.15625 50.6875 5.359375 \nQ 44.046875 -1.421875 33.015625 -1.421875 \nQ 20.359375 -1.421875 13.671875 8.265625 \nQ 6.984375 17.96875 6.984375 36.375 \nQ 6.984375 53.65625 15.1875 63.9375 \nQ 23.390625 74.21875 37.203125 74.21875 \nQ 40.921875 74.21875 44.703125 73.484375 \nQ 48.484375 72.75 52.59375 71.296875 \nz\n\" id=\"DejaVuSans-54\"/>\n       </defs>\n       <use xlink:href=\"#DejaVuSans-48\"/>\n       <use x=\"63.623047\" xlink:href=\"#DejaVuSans-46\"/>\n       <use x=\"95.410156\" xlink:href=\"#DejaVuSans-54\"/>\n      </g>\n     </g>\n    </g>\n    <g id=\"xtick_5\">\n     <g id=\"line2d_5\">\n      <g>\n       <use style=\"stroke:#000000;stroke-width:0.8;\" x=\"337.768853\" xlink:href=\"#mbc398848eb\" y=\"947.2\"/>\n      </g>\n     </g>\n     <g id=\"text_5\">\n      <!-- 0.8 -->\n      <g transform=\"translate(329.817291 961.798437)scale(0.1 -0.1)\">\n       <defs>\n        <path d=\"M 31.78125 34.625 \nQ 24.75 34.625 20.71875 30.859375 \nQ 16.703125 27.09375 16.703125 20.515625 \nQ 16.703125 13.921875 20.71875 10.15625 \nQ 24.75 6.390625 31.78125 6.390625 \nQ 38.8125 6.390625 42.859375 10.171875 \nQ 46.921875 13.96875 46.921875 20.515625 \nQ 46.921875 27.09375 42.890625 30.859375 \nQ 38.875 34.625 31.78125 34.625 \nz\nM 21.921875 38.8125 \nQ 15.578125 40.375 12.03125 44.71875 \nQ 8.5 49.078125 8.5 55.328125 \nQ 8.5 64.0625 14.71875 69.140625 \nQ 20.953125 74.21875 31.78125 74.21875 \nQ 42.671875 74.21875 48.875 69.140625 \nQ 55.078125 64.0625 55.078125 55.328125 \nQ 55.078125 49.078125 51.53125 44.71875 \nQ 48 40.375 41.703125 38.8125 \nQ 48.828125 37.15625 52.796875 32.3125 \nQ 56.78125 27.484375 56.78125 20.515625 \nQ 56.78125 9.90625 50.3125 4.234375 \nQ 43.84375 -1.421875 31.78125 -1.421875 \nQ 19.734375 -1.421875 13.25 4.234375 \nQ 6.78125 9.90625 6.78125 20.515625 \nQ 6.78125 27.484375 10.78125 32.3125 \nQ 14.796875 37.15625 21.921875 38.8125 \nz\nM 18.3125 54.390625 \nQ 18.3125 48.734375 21.84375 45.5625 \nQ 25.390625 42.390625 31.78125 42.390625 \nQ 38.140625 42.390625 41.71875 45.5625 \nQ 45.3125 48.734375 45.3125 54.390625 \nQ 45.3125 60.0625 41.71875 63.234375 \nQ 38.140625 66.40625 31.78125 66.40625 \nQ 25.390625 66.40625 21.84375 63.234375 \nQ 18.3125 60.0625 18.3125 54.390625 \nz\n\" id=\"DejaVuSans-56\"/>\n       </defs>\n       <use xlink:href=\"#DejaVuSans-48\"/>\n       <use x=\"63.623047\" xlink:href=\"#DejaVuSans-46\"/>\n       <use x=\"95.410156\" xlink:href=\"#DejaVuSans-56\"/>\n      </g>\n     </g>\n    </g>\n    <g id=\"xtick_6\">\n     <g id=\"line2d_6\">\n      <g>\n       <use style=\"stroke:#000000;stroke-width:0.8;\" x=\"406.942407\" xlink:href=\"#mbc398848eb\" y=\"947.2\"/>\n      </g>\n     </g>\n     <g id=\"text_6\">\n      <!-- 1.0 -->\n      <g transform=\"translate(398.990845 961.798437)scale(0.1 -0.1)\">\n       <defs>\n        <path d=\"M 12.40625 8.296875 \nL 28.515625 8.296875 \nL 28.515625 63.921875 \nL 10.984375 60.40625 \nL 10.984375 69.390625 \nL 28.421875 72.90625 \nL 38.28125 72.90625 \nL 38.28125 8.296875 \nL 54.390625 8.296875 \nL 54.390625 0 \nL 12.40625 0 \nz\n\" id=\"DejaVuSans-49\"/>\n       </defs>\n       <use xlink:href=\"#DejaVuSans-49\"/>\n       <use x=\"63.623047\" xlink:href=\"#DejaVuSans-46\"/>\n       <use x=\"95.410156\" xlink:href=\"#DejaVuSans-48\"/>\n      </g>\n     </g>\n    </g>\n    <g id=\"text_7\">\n     <!-- iter(unit 100 iters) -->\n     <g transform=\"translate(188.131179 975.476562)scale(0.1 -0.1)\">\n      <defs>\n       <path d=\"M 9.421875 54.6875 \nL 18.40625 54.6875 \nL 18.40625 0 \nL 9.421875 0 \nz\nM 9.421875 75.984375 \nL 18.40625 75.984375 \nL 18.40625 64.59375 \nL 9.421875 64.59375 \nz\n\" id=\"DejaVuSans-105\"/>\n       <path d=\"M 18.3125 70.21875 \nL 18.3125 54.6875 \nL 36.8125 54.6875 \nL 36.8125 47.703125 \nL 18.3125 47.703125 \nL 18.3125 18.015625 \nQ 18.3125 11.328125 20.140625 9.421875 \nQ 21.96875 7.515625 27.59375 7.515625 \nL 36.8125 7.515625 \nL 36.8125 0 \nL 27.59375 0 \nQ 17.1875 0 13.234375 3.875 \nQ 9.28125 7.765625 9.28125 18.015625 \nL 9.28125 47.703125 \nL 2.6875 47.703125 \nL 2.6875 54.6875 \nL 9.28125 54.6875 \nL 9.28125 70.21875 \nz\n\" id=\"DejaVuSans-116\"/>\n       <path d=\"M 56.203125 29.59375 \nL 56.203125 25.203125 \nL 14.890625 25.203125 \nQ 15.484375 15.921875 20.484375 11.0625 \nQ 25.484375 6.203125 34.421875 6.203125 \nQ 39.59375 6.203125 44.453125 7.46875 \nQ 49.3125 8.734375 54.109375 11.28125 \nL 54.109375 2.78125 \nQ 49.265625 0.734375 44.1875 -0.34375 \nQ 39.109375 -1.421875 33.890625 -1.421875 \nQ 20.796875 -1.421875 13.15625 6.1875 \nQ 5.515625 13.8125 5.515625 26.8125 \nQ 5.515625 40.234375 12.765625 48.109375 \nQ 20.015625 56 32.328125 56 \nQ 43.359375 56 49.78125 48.890625 \nQ 56.203125 41.796875 56.203125 29.59375 \nz\nM 47.21875 32.234375 \nQ 47.125 39.59375 43.09375 43.984375 \nQ 39.0625 48.390625 32.421875 48.390625 \nQ 24.90625 48.390625 20.390625 44.140625 \nQ 15.875 39.890625 15.1875 32.171875 \nz\n\" id=\"DejaVuSans-101\"/>\n       <path d=\"M 41.109375 46.296875 \nQ 39.59375 47.171875 37.8125 47.578125 \nQ 36.03125 48 33.890625 48 \nQ 26.265625 48 22.1875 43.046875 \nQ 18.109375 38.09375 18.109375 28.8125 \nL 18.109375 0 \nL 9.078125 0 \nL 9.078125 54.6875 \nL 18.109375 54.6875 \nL 18.109375 46.1875 \nQ 20.953125 51.171875 25.484375 53.578125 \nQ 30.03125 56 36.53125 56 \nQ 37.453125 56 38.578125 55.875 \nQ 39.703125 55.765625 41.0625 55.515625 \nz\n\" id=\"DejaVuSans-114\"/>\n       <path d=\"M 31 75.875 \nQ 24.46875 64.65625 21.28125 53.65625 \nQ 18.109375 42.671875 18.109375 31.390625 \nQ 18.109375 20.125 21.3125 9.0625 \nQ 24.515625 -2 31 -13.1875 \nL 23.1875 -13.1875 \nQ 15.875 -1.703125 12.234375 9.375 \nQ 8.59375 20.453125 8.59375 31.390625 \nQ 8.59375 42.28125 12.203125 53.3125 \nQ 15.828125 64.359375 23.1875 75.875 \nz\n\" id=\"DejaVuSans-40\"/>\n       <path d=\"M 8.5 21.578125 \nL 8.5 54.6875 \nL 17.484375 54.6875 \nL 17.484375 21.921875 \nQ 17.484375 14.15625 20.5 10.265625 \nQ 23.53125 6.390625 29.59375 6.390625 \nQ 36.859375 6.390625 41.078125 11.03125 \nQ 45.3125 15.671875 45.3125 23.6875 \nL 45.3125 54.6875 \nL 54.296875 54.6875 \nL 54.296875 0 \nL 45.3125 0 \nL 45.3125 8.40625 \nQ 42.046875 3.421875 37.71875 1 \nQ 33.40625 -1.421875 27.6875 -1.421875 \nQ 18.265625 -1.421875 13.375 4.4375 \nQ 8.5 10.296875 8.5 21.578125 \nz\nM 31.109375 56 \nz\n\" id=\"DejaVuSans-117\"/>\n       <path d=\"M 54.890625 33.015625 \nL 54.890625 0 \nL 45.90625 0 \nL 45.90625 32.71875 \nQ 45.90625 40.484375 42.875 44.328125 \nQ 39.84375 48.1875 33.796875 48.1875 \nQ 26.515625 48.1875 22.3125 43.546875 \nQ 18.109375 38.921875 18.109375 30.90625 \nL 18.109375 0 \nL 9.078125 0 \nL 9.078125 54.6875 \nL 18.109375 54.6875 \nL 18.109375 46.1875 \nQ 21.34375 51.125 25.703125 53.5625 \nQ 30.078125 56 35.796875 56 \nQ 45.21875 56 50.046875 50.171875 \nQ 54.890625 44.34375 54.890625 33.015625 \nz\n\" id=\"DejaVuSans-110\"/>\n       <path id=\"DejaVuSans-32\"/>\n       <path d=\"M 44.28125 53.078125 \nL 44.28125 44.578125 \nQ 40.484375 46.53125 36.375 47.5 \nQ 32.28125 48.484375 27.875 48.484375 \nQ 21.1875 48.484375 17.84375 46.4375 \nQ 14.5 44.390625 14.5 40.28125 \nQ 14.5 37.15625 16.890625 35.375 \nQ 19.28125 33.59375 26.515625 31.984375 \nL 29.59375 31.296875 \nQ 39.15625 29.25 43.1875 25.515625 \nQ 47.21875 21.78125 47.21875 15.09375 \nQ 47.21875 7.46875 41.1875 3.015625 \nQ 35.15625 -1.421875 24.609375 -1.421875 \nQ 20.21875 -1.421875 15.453125 -0.5625 \nQ 10.6875 0.296875 5.421875 2 \nL 5.421875 11.28125 \nQ 10.40625 8.6875 15.234375 7.390625 \nQ 20.0625 6.109375 24.8125 6.109375 \nQ 31.15625 6.109375 34.5625 8.28125 \nQ 37.984375 10.453125 37.984375 14.40625 \nQ 37.984375 18.0625 35.515625 20.015625 \nQ 33.0625 21.96875 24.703125 23.78125 \nL 21.578125 24.515625 \nQ 13.234375 26.265625 9.515625 29.90625 \nQ 5.8125 33.546875 5.8125 39.890625 \nQ 5.8125 47.609375 11.28125 51.796875 \nQ 16.75 56 26.8125 56 \nQ 31.78125 56 36.171875 55.265625 \nQ 40.578125 54.546875 44.28125 53.078125 \nz\n\" id=\"DejaVuSans-115\"/>\n       <path d=\"M 8.015625 75.875 \nL 15.828125 75.875 \nQ 23.140625 64.359375 26.78125 53.3125 \nQ 30.421875 42.28125 30.421875 31.390625 \nQ 30.421875 20.453125 26.78125 9.375 \nQ 23.140625 -1.703125 15.828125 -13.1875 \nL 8.015625 -13.1875 \nQ 14.5 -2 17.703125 9.0625 \nQ 20.90625 20.125 20.90625 31.390625 \nQ 20.90625 42.671875 17.703125 53.65625 \nQ 14.5 64.65625 8.015625 75.875 \nz\n\" id=\"DejaVuSans-41\"/>\n      </defs>\n      <use xlink:href=\"#DejaVuSans-105\"/>\n      <use x=\"27.783203\" xlink:href=\"#DejaVuSans-116\"/>\n      <use x=\"66.992188\" xlink:href=\"#DejaVuSans-101\"/>\n      <use x=\"128.515625\" xlink:href=\"#DejaVuSans-114\"/>\n      <use x=\"169.628906\" xlink:href=\"#DejaVuSans-40\"/>\n      <use x=\"208.642578\" xlink:href=\"#DejaVuSans-117\"/>\n      <use x=\"272.021484\" xlink:href=\"#DejaVuSans-110\"/>\n      <use x=\"335.400391\" xlink:href=\"#DejaVuSans-105\"/>\n      <use x=\"363.183594\" xlink:href=\"#DejaVuSans-116\"/>\n      <use x=\"402.392578\" xlink:href=\"#DejaVuSans-32\"/>\n      <use x=\"434.179688\" xlink:href=\"#DejaVuSans-49\"/>\n      <use x=\"497.802734\" xlink:href=\"#DejaVuSans-48\"/>\n      <use x=\"561.425781\" xlink:href=\"#DejaVuSans-48\"/>\n      <use x=\"625.048828\" xlink:href=\"#DejaVuSans-32\"/>\n      <use x=\"656.835938\" xlink:href=\"#DejaVuSans-105\"/>\n      <use x=\"684.619141\" xlink:href=\"#DejaVuSans-116\"/>\n      <use x=\"723.828125\" xlink:href=\"#DejaVuSans-101\"/>\n      <use x=\"785.351562\" xlink:href=\"#DejaVuSans-114\"/>\n      <use x=\"826.464844\" xlink:href=\"#DejaVuSans-115\"/>\n      <use x=\"878.564453\" xlink:href=\"#DejaVuSans-41\"/>\n     </g>\n    </g>\n   </g>\n   <g id=\"matplotlib.axis_2\">\n    <g id=\"ytick_1\">\n     <g id=\"line2d_7\">\n      <defs>\n       <path d=\"M 0 0 \nL -3.5 0 \n\" id=\"m9181dc944c\" style=\"stroke:#000000;stroke-width:0.8;\"/>\n      </defs>\n      <g>\n       <use style=\"stroke:#000000;stroke-width:0.8;\" x=\"43.78125\" xlink:href=\"#m9181dc944c\" y=\"917.988993\"/>\n      </g>\n     </g>\n     <g id=\"text_8\">\n      <!-- 0.5 -->\n      <g transform=\"translate(20.878125 921.788211)scale(0.1 -0.1)\">\n       <defs>\n        <path d=\"M 10.796875 72.90625 \nL 49.515625 72.90625 \nL 49.515625 64.59375 \nL 19.828125 64.59375 \nL 19.828125 46.734375 \nQ 21.96875 47.46875 24.109375 47.828125 \nQ 26.265625 48.1875 28.421875 48.1875 \nQ 40.625 48.1875 47.75 41.5 \nQ 54.890625 34.8125 54.890625 23.390625 \nQ 54.890625 11.625 47.5625 5.09375 \nQ 40.234375 -1.421875 26.90625 -1.421875 \nQ 22.3125 -1.421875 17.546875 -0.640625 \nQ 12.796875 0.140625 7.71875 1.703125 \nL 7.71875 11.625 \nQ 12.109375 9.234375 16.796875 8.0625 \nQ 21.484375 6.890625 26.703125 6.890625 \nQ 35.15625 6.890625 40.078125 11.328125 \nQ 45.015625 15.765625 45.015625 23.390625 \nQ 45.015625 31 40.078125 35.4375 \nQ 35.15625 39.890625 26.703125 39.890625 \nQ 22.75 39.890625 18.8125 39.015625 \nQ 14.890625 38.140625 10.796875 36.28125 \nz\n\" id=\"DejaVuSans-53\"/>\n       </defs>\n       <use xlink:href=\"#DejaVuSans-48\"/>\n       <use x=\"63.623047\" xlink:href=\"#DejaVuSans-46\"/>\n       <use x=\"95.410156\" xlink:href=\"#DejaVuSans-53\"/>\n      </g>\n     </g>\n    </g>\n    <g id=\"ytick_2\">\n     <g id=\"line2d_8\">\n      <g>\n       <use style=\"stroke:#000000;stroke-width:0.8;\" x=\"43.78125\" xlink:href=\"#m9181dc944c\" y=\"790.478366\"/>\n      </g>\n     </g>\n     <g id=\"text_9\">\n      <!-- 0.6 -->\n      <g transform=\"translate(20.878125 794.277585)scale(0.1 -0.1)\">\n       <use xlink:href=\"#DejaVuSans-48\"/>\n       <use x=\"63.623047\" xlink:href=\"#DejaVuSans-46\"/>\n       <use x=\"95.410156\" xlink:href=\"#DejaVuSans-54\"/>\n      </g>\n     </g>\n    </g>\n    <g id=\"ytick_3\">\n     <g id=\"line2d_9\">\n      <g>\n       <use style=\"stroke:#000000;stroke-width:0.8;\" x=\"43.78125\" xlink:href=\"#m9181dc944c\" y=\"662.96774\"/>\n      </g>\n     </g>\n     <g id=\"text_10\">\n      <!-- 0.7 -->\n      <g transform=\"translate(20.878125 666.766958)scale(0.1 -0.1)\">\n       <defs>\n        <path d=\"M 8.203125 72.90625 \nL 55.078125 72.90625 \nL 55.078125 68.703125 \nL 28.609375 0 \nL 18.3125 0 \nL 43.21875 64.59375 \nL 8.203125 64.59375 \nz\n\" id=\"DejaVuSans-55\"/>\n       </defs>\n       <use xlink:href=\"#DejaVuSans-48\"/>\n       <use x=\"63.623047\" xlink:href=\"#DejaVuSans-46\"/>\n       <use x=\"95.410156\" xlink:href=\"#DejaVuSans-55\"/>\n      </g>\n     </g>\n    </g>\n    <g id=\"ytick_4\">\n     <g id=\"line2d_10\">\n      <g>\n       <use style=\"stroke:#000000;stroke-width:0.8;\" x=\"43.78125\" xlink:href=\"#m9181dc944c\" y=\"535.457113\"/>\n      </g>\n     </g>\n     <g id=\"text_11\">\n      <!-- 0.8 -->\n      <g transform=\"translate(20.878125 539.256332)scale(0.1 -0.1)\">\n       <use xlink:href=\"#DejaVuSans-48\"/>\n       <use x=\"63.623047\" xlink:href=\"#DejaVuSans-46\"/>\n       <use x=\"95.410156\" xlink:href=\"#DejaVuSans-56\"/>\n      </g>\n     </g>\n    </g>\n    <g id=\"ytick_5\">\n     <g id=\"line2d_11\">\n      <g>\n       <use style=\"stroke:#000000;stroke-width:0.8;\" x=\"43.78125\" xlink:href=\"#m9181dc944c\" y=\"407.946487\"/>\n      </g>\n     </g>\n     <g id=\"text_12\">\n      <!-- 0.9 -->\n      <g transform=\"translate(20.878125 411.745705)scale(0.1 -0.1)\">\n       <defs>\n        <path d=\"M 10.984375 1.515625 \nL 10.984375 10.5 \nQ 14.703125 8.734375 18.5 7.8125 \nQ 22.3125 6.890625 25.984375 6.890625 \nQ 35.75 6.890625 40.890625 13.453125 \nQ 46.046875 20.015625 46.78125 33.40625 \nQ 43.953125 29.203125 39.59375 26.953125 \nQ 35.25 24.703125 29.984375 24.703125 \nQ 19.046875 24.703125 12.671875 31.3125 \nQ 6.296875 37.9375 6.296875 49.421875 \nQ 6.296875 60.640625 12.9375 67.421875 \nQ 19.578125 74.21875 30.609375 74.21875 \nQ 43.265625 74.21875 49.921875 64.515625 \nQ 56.59375 54.828125 56.59375 36.375 \nQ 56.59375 19.140625 48.40625 8.859375 \nQ 40.234375 -1.421875 26.421875 -1.421875 \nQ 22.703125 -1.421875 18.890625 -0.6875 \nQ 15.09375 0.046875 10.984375 1.515625 \nz\nM 30.609375 32.421875 \nQ 37.25 32.421875 41.125 36.953125 \nQ 45.015625 41.5 45.015625 49.421875 \nQ 45.015625 57.28125 41.125 61.84375 \nQ 37.25 66.40625 30.609375 66.40625 \nQ 23.96875 66.40625 20.09375 61.84375 \nQ 16.21875 57.28125 16.21875 49.421875 \nQ 16.21875 41.5 20.09375 36.953125 \nQ 23.96875 32.421875 30.609375 32.421875 \nz\n\" id=\"DejaVuSans-57\"/>\n       </defs>\n       <use xlink:href=\"#DejaVuSans-48\"/>\n       <use x=\"63.623047\" xlink:href=\"#DejaVuSans-46\"/>\n       <use x=\"95.410156\" xlink:href=\"#DejaVuSans-57\"/>\n      </g>\n     </g>\n    </g>\n    <g id=\"ytick_6\">\n     <g id=\"line2d_12\">\n      <g>\n       <use style=\"stroke:#000000;stroke-width:0.8;\" x=\"43.78125\" xlink:href=\"#m9181dc944c\" y=\"280.43586\"/>\n      </g>\n     </g>\n     <g id=\"text_13\">\n      <!-- 1.0 -->\n      <g transform=\"translate(20.878125 284.235079)scale(0.1 -0.1)\">\n       <use xlink:href=\"#DejaVuSans-49\"/>\n       <use x=\"63.623047\" xlink:href=\"#DejaVuSans-46\"/>\n       <use x=\"95.410156\" xlink:href=\"#DejaVuSans-48\"/>\n      </g>\n     </g>\n    </g>\n    <g id=\"ytick_7\">\n     <g id=\"line2d_13\">\n      <g>\n       <use style=\"stroke:#000000;stroke-width:0.8;\" x=\"43.78125\" xlink:href=\"#m9181dc944c\" y=\"152.925234\"/>\n      </g>\n     </g>\n     <g id=\"text_14\">\n      <!-- 1.1 -->\n      <g transform=\"translate(20.878125 156.724452)scale(0.1 -0.1)\">\n       <use xlink:href=\"#DejaVuSans-49\"/>\n       <use x=\"63.623047\" xlink:href=\"#DejaVuSans-46\"/>\n       <use x=\"95.410156\" xlink:href=\"#DejaVuSans-49\"/>\n      </g>\n     </g>\n    </g>\n    <g id=\"text_15\">\n     <!-- loss -->\n     <g transform=\"translate(14.798438 549.157812)rotate(-90)scale(0.1 -0.1)\">\n      <defs>\n       <path d=\"M 9.421875 75.984375 \nL 18.40625 75.984375 \nL 18.40625 0 \nL 9.421875 0 \nz\n\" id=\"DejaVuSans-108\"/>\n       <path d=\"M 30.609375 48.390625 \nQ 23.390625 48.390625 19.1875 42.75 \nQ 14.984375 37.109375 14.984375 27.296875 \nQ 14.984375 17.484375 19.15625 11.84375 \nQ 23.34375 6.203125 30.609375 6.203125 \nQ 37.796875 6.203125 41.984375 11.859375 \nQ 46.1875 17.53125 46.1875 27.296875 \nQ 46.1875 37.015625 41.984375 42.703125 \nQ 37.796875 48.390625 30.609375 48.390625 \nz\nM 30.609375 56 \nQ 42.328125 56 49.015625 48.375 \nQ 55.71875 40.765625 55.71875 27.296875 \nQ 55.71875 13.875 49.015625 6.21875 \nQ 42.328125 -1.421875 30.609375 -1.421875 \nQ 18.84375 -1.421875 12.171875 6.21875 \nQ 5.515625 13.875 5.515625 27.296875 \nQ 5.515625 40.765625 12.171875 48.375 \nQ 18.84375 56 30.609375 56 \nz\n\" id=\"DejaVuSans-111\"/>\n      </defs>\n      <use xlink:href=\"#DejaVuSans-108\"/>\n      <use x=\"27.783203\" xlink:href=\"#DejaVuSans-111\"/>\n      <use x=\"88.964844\" xlink:href=\"#DejaVuSans-115\"/>\n      <use x=\"141.064453\" xlink:href=\"#DejaVuSans-115\"/>\n     </g>\n    </g>\n   </g>\n   <g id=\"line2d_14\">\n    <path clip-path=\"url(#p86a2d98052)\" d=\"M 61.074638 879.030464 \nL 406.942407 910.136364 \n\" style=\"fill:none;stroke:#1f77b4;stroke-linecap:square;stroke-width:1.5;\"/>\n   </g>\n   <g id=\"line2d_15\">\n    <path clip-path=\"url(#p86a2d98052)\" d=\"M 61.074638 168.863636 \nL 406.942407 258.932694 \n\" style=\"fill:none;stroke:#ff7f0e;stroke-linecap:square;stroke-width:1.5;\"/>\n   </g>\n   <g id=\"patch_3\">\n    <path d=\"M 43.78125 947.2 \nL 43.78125 131.8 \n\" style=\"fill:none;stroke:#000000;stroke-linecap:square;stroke-linejoin:miter;stroke-width:0.8;\"/>\n   </g>\n   <g id=\"patch_4\">\n    <path d=\"M 424.235795 947.2 \nL 424.235795 131.8 \n\" style=\"fill:none;stroke:#000000;stroke-linecap:square;stroke-linejoin:miter;stroke-width:0.8;\"/>\n   </g>\n   <g id=\"patch_5\">\n    <path d=\"M 43.78125 947.2 \nL 424.235795 947.2 \n\" style=\"fill:none;stroke:#000000;stroke-linecap:square;stroke-linejoin:miter;stroke-width:0.8;\"/>\n   </g>\n   <g id=\"patch_6\">\n    <path d=\"M 43.78125 131.8 \nL 424.235795 131.8 \n\" style=\"fill:none;stroke:#000000;stroke-linecap:square;stroke-linejoin:miter;stroke-width:0.8;\"/>\n   </g>\n   <g id=\"text_16\">\n    <!-- Loss -->\n    <g transform=\"translate(220.847898 125.8)scale(0.12 -0.12)\">\n     <defs>\n      <path d=\"M 9.8125 72.90625 \nL 19.671875 72.90625 \nL 19.671875 8.296875 \nL 55.171875 8.296875 \nL 55.171875 0 \nL 9.8125 0 \nz\n\" id=\"DejaVuSans-76\"/>\n     </defs>\n     <use xlink:href=\"#DejaVuSans-76\"/>\n     <use x=\"53.962891\" xlink:href=\"#DejaVuSans-111\"/>\n     <use x=\"115.144531\" xlink:href=\"#DejaVuSans-115\"/>\n     <use x=\"167.244141\" xlink:href=\"#DejaVuSans-115\"/>\n    </g>\n   </g>\n  </g>\n  <g id=\"axes_2\">\n   <g id=\"patch_7\">\n    <path d=\"M 500.326705 947.2 \nL 880.78125 947.2 \nL 880.78125 131.8 \nL 500.326705 131.8 \nz\n\" style=\"fill:#ffffff;\"/>\n   </g>\n   <g id=\"matplotlib.axis_3\">\n    <g id=\"xtick_7\">\n     <g id=\"line2d_16\">\n      <g>\n       <use style=\"stroke:#000000;stroke-width:0.8;\" x=\"517.620093\" xlink:href=\"#mbc398848eb\" y=\"947.2\"/>\n      </g>\n     </g>\n     <g id=\"text_17\">\n      <!-- 0.0 -->\n      <g transform=\"translate(509.66853 961.798437)scale(0.1 -0.1)\">\n       <use xlink:href=\"#DejaVuSans-48\"/>\n       <use x=\"63.623047\" xlink:href=\"#DejaVuSans-46\"/>\n       <use x=\"95.410156\" xlink:href=\"#DejaVuSans-48\"/>\n      </g>\n     </g>\n    </g>\n    <g id=\"xtick_8\">\n     <g id=\"line2d_17\">\n      <g>\n       <use style=\"stroke:#000000;stroke-width:0.8;\" x=\"586.793647\" xlink:href=\"#mbc398848eb\" y=\"947.2\"/>\n      </g>\n     </g>\n     <g id=\"text_18\">\n      <!-- 0.2 -->\n      <g transform=\"translate(578.842084 961.798437)scale(0.1 -0.1)\">\n       <use xlink:href=\"#DejaVuSans-48\"/>\n       <use x=\"63.623047\" xlink:href=\"#DejaVuSans-46\"/>\n       <use x=\"95.410156\" xlink:href=\"#DejaVuSans-50\"/>\n      </g>\n     </g>\n    </g>\n    <g id=\"xtick_9\">\n     <g id=\"line2d_18\">\n      <g>\n       <use style=\"stroke:#000000;stroke-width:0.8;\" x=\"655.9672\" xlink:href=\"#mbc398848eb\" y=\"947.2\"/>\n      </g>\n     </g>\n     <g id=\"text_19\">\n      <!-- 0.4 -->\n      <g transform=\"translate(648.015638 961.798437)scale(0.1 -0.1)\">\n       <use xlink:href=\"#DejaVuSans-48\"/>\n       <use x=\"63.623047\" xlink:href=\"#DejaVuSans-46\"/>\n       <use x=\"95.410156\" xlink:href=\"#DejaVuSans-52\"/>\n      </g>\n     </g>\n    </g>\n    <g id=\"xtick_10\">\n     <g id=\"line2d_19\">\n      <g>\n       <use style=\"stroke:#000000;stroke-width:0.8;\" x=\"725.140754\" xlink:href=\"#mbc398848eb\" y=\"947.2\"/>\n      </g>\n     </g>\n     <g id=\"text_20\">\n      <!-- 0.6 -->\n      <g transform=\"translate(717.189192 961.798437)scale(0.1 -0.1)\">\n       <use xlink:href=\"#DejaVuSans-48\"/>\n       <use x=\"63.623047\" xlink:href=\"#DejaVuSans-46\"/>\n       <use x=\"95.410156\" xlink:href=\"#DejaVuSans-54\"/>\n      </g>\n     </g>\n    </g>\n    <g id=\"xtick_11\">\n     <g id=\"line2d_20\">\n      <g>\n       <use style=\"stroke:#000000;stroke-width:0.8;\" x=\"794.314308\" xlink:href=\"#mbc398848eb\" y=\"947.2\"/>\n      </g>\n     </g>\n     <g id=\"text_21\">\n      <!-- 0.8 -->\n      <g transform=\"translate(786.362745 961.798437)scale(0.1 -0.1)\">\n       <use xlink:href=\"#DejaVuSans-48\"/>\n       <use x=\"63.623047\" xlink:href=\"#DejaVuSans-46\"/>\n       <use x=\"95.410156\" xlink:href=\"#DejaVuSans-56\"/>\n      </g>\n     </g>\n    </g>\n    <g id=\"xtick_12\">\n     <g id=\"line2d_21\">\n      <g>\n       <use style=\"stroke:#000000;stroke-width:0.8;\" x=\"863.487862\" xlink:href=\"#mbc398848eb\" y=\"947.2\"/>\n      </g>\n     </g>\n     <g id=\"text_22\">\n      <!-- 1.0 -->\n      <g transform=\"translate(855.536299 961.798437)scale(0.1 -0.1)\">\n       <use xlink:href=\"#DejaVuSans-49\"/>\n       <use x=\"63.623047\" xlink:href=\"#DejaVuSans-46\"/>\n       <use x=\"95.410156\" xlink:href=\"#DejaVuSans-48\"/>\n      </g>\n     </g>\n    </g>\n    <g id=\"text_23\">\n     <!-- iter(unit 100 iters) -->\n     <g transform=\"translate(644.676634 975.476562)scale(0.1 -0.1)\">\n      <use xlink:href=\"#DejaVuSans-105\"/>\n      <use x=\"27.783203\" xlink:href=\"#DejaVuSans-116\"/>\n      <use x=\"66.992188\" xlink:href=\"#DejaVuSans-101\"/>\n      <use x=\"128.515625\" xlink:href=\"#DejaVuSans-114\"/>\n      <use x=\"169.628906\" xlink:href=\"#DejaVuSans-40\"/>\n      <use x=\"208.642578\" xlink:href=\"#DejaVuSans-117\"/>\n      <use x=\"272.021484\" xlink:href=\"#DejaVuSans-110\"/>\n      <use x=\"335.400391\" xlink:href=\"#DejaVuSans-105\"/>\n      <use x=\"363.183594\" xlink:href=\"#DejaVuSans-116\"/>\n      <use x=\"402.392578\" xlink:href=\"#DejaVuSans-32\"/>\n      <use x=\"434.179688\" xlink:href=\"#DejaVuSans-49\"/>\n      <use x=\"497.802734\" xlink:href=\"#DejaVuSans-48\"/>\n      <use x=\"561.425781\" xlink:href=\"#DejaVuSans-48\"/>\n      <use x=\"625.048828\" xlink:href=\"#DejaVuSans-32\"/>\n      <use x=\"656.835938\" xlink:href=\"#DejaVuSans-105\"/>\n      <use x=\"684.619141\" xlink:href=\"#DejaVuSans-116\"/>\n      <use x=\"723.828125\" xlink:href=\"#DejaVuSans-101\"/>\n      <use x=\"785.351562\" xlink:href=\"#DejaVuSans-114\"/>\n      <use x=\"826.464844\" xlink:href=\"#DejaVuSans-115\"/>\n      <use x=\"878.564453\" xlink:href=\"#DejaVuSans-41\"/>\n     </g>\n    </g>\n   </g>\n   <g id=\"matplotlib.axis_4\">\n    <g id=\"ytick_8\">\n     <g id=\"line2d_22\">\n      <g>\n       <use style=\"stroke:#000000;stroke-width:0.8;\" x=\"500.326705\" xlink:href=\"#m9181dc944c\" y=\"874.448413\"/>\n      </g>\n     </g>\n     <g id=\"text_24\">\n      <!-- 70 -->\n      <g transform=\"translate(480.601705 878.247631)scale(0.1 -0.1)\">\n       <use xlink:href=\"#DejaVuSans-55\"/>\n       <use x=\"63.623047\" xlink:href=\"#DejaVuSans-48\"/>\n      </g>\n     </g>\n    </g>\n    <g id=\"ytick_9\">\n     <g id=\"line2d_23\">\n      <g>\n       <use style=\"stroke:#000000;stroke-width:0.8;\" x=\"500.326705\" xlink:href=\"#m9181dc944c\" y=\"755.488273\"/>\n      </g>\n     </g>\n     <g id=\"text_25\">\n      <!-- 72 -->\n      <g transform=\"translate(480.601705 759.287492)scale(0.1 -0.1)\">\n       <use xlink:href=\"#DejaVuSans-55\"/>\n       <use x=\"63.623047\" xlink:href=\"#DejaVuSans-50\"/>\n      </g>\n     </g>\n    </g>\n    <g id=\"ytick_10\">\n     <g id=\"line2d_24\">\n      <g>\n       <use style=\"stroke:#000000;stroke-width:0.8;\" x=\"500.326705\" xlink:href=\"#m9181dc944c\" y=\"636.528134\"/>\n      </g>\n     </g>\n     <g id=\"text_26\">\n      <!-- 74 -->\n      <g transform=\"translate(480.601705 640.327353)scale(0.1 -0.1)\">\n       <use xlink:href=\"#DejaVuSans-55\"/>\n       <use x=\"63.623047\" xlink:href=\"#DejaVuSans-52\"/>\n      </g>\n     </g>\n    </g>\n    <g id=\"ytick_11\">\n     <g id=\"line2d_25\">\n      <g>\n       <use style=\"stroke:#000000;stroke-width:0.8;\" x=\"500.326705\" xlink:href=\"#m9181dc944c\" y=\"517.567995\"/>\n      </g>\n     </g>\n     <g id=\"text_27\">\n      <!-- 76 -->\n      <g transform=\"translate(480.601705 521.367214)scale(0.1 -0.1)\">\n       <use xlink:href=\"#DejaVuSans-55\"/>\n       <use x=\"63.623047\" xlink:href=\"#DejaVuSans-54\"/>\n      </g>\n     </g>\n    </g>\n    <g id=\"ytick_12\">\n     <g id=\"line2d_26\">\n      <g>\n       <use style=\"stroke:#000000;stroke-width:0.8;\" x=\"500.326705\" xlink:href=\"#m9181dc944c\" y=\"398.607856\"/>\n      </g>\n     </g>\n     <g id=\"text_28\">\n      <!-- 78 -->\n      <g transform=\"translate(480.601705 402.407074)scale(0.1 -0.1)\">\n       <use xlink:href=\"#DejaVuSans-55\"/>\n       <use x=\"63.623047\" xlink:href=\"#DejaVuSans-56\"/>\n      </g>\n     </g>\n    </g>\n    <g id=\"ytick_13\">\n     <g id=\"line2d_27\">\n      <g>\n       <use style=\"stroke:#000000;stroke-width:0.8;\" x=\"500.326705\" xlink:href=\"#m9181dc944c\" y=\"279.647717\"/>\n      </g>\n     </g>\n     <g id=\"text_29\">\n      <!-- 80 -->\n      <g transform=\"translate(480.601705 283.446935)scale(0.1 -0.1)\">\n       <use xlink:href=\"#DejaVuSans-56\"/>\n       <use x=\"63.623047\" xlink:href=\"#DejaVuSans-48\"/>\n      </g>\n     </g>\n    </g>\n    <g id=\"ytick_14\">\n     <g id=\"line2d_28\">\n      <g>\n       <use style=\"stroke:#000000;stroke-width:0.8;\" x=\"500.326705\" xlink:href=\"#m9181dc944c\" y=\"160.687577\"/>\n      </g>\n     </g>\n     <g id=\"text_30\">\n      <!-- 82 -->\n      <g transform=\"translate(480.601705 164.486796)scale(0.1 -0.1)\">\n       <use xlink:href=\"#DejaVuSans-56\"/>\n       <use x=\"63.623047\" xlink:href=\"#DejaVuSans-50\"/>\n      </g>\n     </g>\n    </g>\n    <g id=\"text_31\">\n     <!-- acc -->\n     <g transform=\"translate(474.522017 548.0625)rotate(-90)scale(0.1 -0.1)\">\n      <defs>\n       <path d=\"M 34.28125 27.484375 \nQ 23.390625 27.484375 19.1875 25 \nQ 14.984375 22.515625 14.984375 16.5 \nQ 14.984375 11.71875 18.140625 8.90625 \nQ 21.296875 6.109375 26.703125 6.109375 \nQ 34.1875 6.109375 38.703125 11.40625 \nQ 43.21875 16.703125 43.21875 25.484375 \nL 43.21875 27.484375 \nz\nM 52.203125 31.203125 \nL 52.203125 0 \nL 43.21875 0 \nL 43.21875 8.296875 \nQ 40.140625 3.328125 35.546875 0.953125 \nQ 30.953125 -1.421875 24.3125 -1.421875 \nQ 15.921875 -1.421875 10.953125 3.296875 \nQ 6 8.015625 6 15.921875 \nQ 6 25.140625 12.171875 29.828125 \nQ 18.359375 34.515625 30.609375 34.515625 \nL 43.21875 34.515625 \nL 43.21875 35.40625 \nQ 43.21875 41.609375 39.140625 45 \nQ 35.0625 48.390625 27.6875 48.390625 \nQ 23 48.390625 18.546875 47.265625 \nQ 14.109375 46.140625 10.015625 43.890625 \nL 10.015625 52.203125 \nQ 14.9375 54.109375 19.578125 55.046875 \nQ 24.21875 56 28.609375 56 \nQ 40.484375 56 46.34375 49.84375 \nQ 52.203125 43.703125 52.203125 31.203125 \nz\n\" id=\"DejaVuSans-97\"/>\n       <path d=\"M 48.78125 52.59375 \nL 48.78125 44.1875 \nQ 44.96875 46.296875 41.140625 47.34375 \nQ 37.3125 48.390625 33.40625 48.390625 \nQ 24.65625 48.390625 19.8125 42.84375 \nQ 14.984375 37.3125 14.984375 27.296875 \nQ 14.984375 17.28125 19.8125 11.734375 \nQ 24.65625 6.203125 33.40625 6.203125 \nQ 37.3125 6.203125 41.140625 7.25 \nQ 44.96875 8.296875 48.78125 10.40625 \nL 48.78125 2.09375 \nQ 45.015625 0.34375 40.984375 -0.53125 \nQ 36.96875 -1.421875 32.421875 -1.421875 \nQ 20.0625 -1.421875 12.78125 6.34375 \nQ 5.515625 14.109375 5.515625 27.296875 \nQ 5.515625 40.671875 12.859375 48.328125 \nQ 20.21875 56 33.015625 56 \nQ 37.15625 56 41.109375 55.140625 \nQ 45.0625 54.296875 48.78125 52.59375 \nz\n\" id=\"DejaVuSans-99\"/>\n      </defs>\n      <use xlink:href=\"#DejaVuSans-97\"/>\n      <use x=\"61.279297\" xlink:href=\"#DejaVuSans-99\"/>\n      <use x=\"116.259766\" xlink:href=\"#DejaVuSans-99\"/>\n     </g>\n    </g>\n   </g>\n   <g id=\"line2d_29\">\n    <path clip-path=\"url(#pd0edb8de1e)\" d=\"M 517.620093 233.04005 \nL 863.487862 168.863636 \n\" style=\"fill:none;stroke:#1f77b4;stroke-linecap:square;stroke-width:1.5;\"/>\n   </g>\n   <g id=\"line2d_30\">\n    <path clip-path=\"url(#pd0edb8de1e)\" d=\"M 517.620093 838.760462 \nL 863.487862 910.136364 \n\" style=\"fill:none;stroke:#ff7f0e;stroke-linecap:square;stroke-width:1.5;\"/>\n   </g>\n   <g id=\"patch_8\">\n    <path d=\"M 500.326705 947.2 \nL 500.326705 131.8 \n\" style=\"fill:none;stroke:#000000;stroke-linecap:square;stroke-linejoin:miter;stroke-width:0.8;\"/>\n   </g>\n   <g id=\"patch_9\">\n    <path d=\"M 880.78125 947.2 \nL 880.78125 131.8 \n\" style=\"fill:none;stroke:#000000;stroke-linecap:square;stroke-linejoin:miter;stroke-width:0.8;\"/>\n   </g>\n   <g id=\"patch_10\">\n    <path d=\"M 500.326705 947.2 \nL 880.78125 947.2 \n\" style=\"fill:none;stroke:#000000;stroke-linecap:square;stroke-linejoin:miter;stroke-width:0.8;\"/>\n   </g>\n   <g id=\"patch_11\">\n    <path d=\"M 500.326705 131.8 \nL 880.78125 131.8 \n\" style=\"fill:none;stroke:#000000;stroke-linecap:square;stroke-linejoin:miter;stroke-width:0.8;\"/>\n   </g>\n   <g id=\"text_32\">\n    <!-- Accuracy -->\n    <g transform=\"translate(663.160227 125.8)scale(0.12 -0.12)\">\n     <defs>\n      <path d=\"M 34.1875 63.1875 \nL 20.796875 26.90625 \nL 47.609375 26.90625 \nz\nM 28.609375 72.90625 \nL 39.796875 72.90625 \nL 67.578125 0 \nL 57.328125 0 \nL 50.6875 18.703125 \nL 17.828125 18.703125 \nL 11.1875 0 \nL 0.78125 0 \nz\n\" id=\"DejaVuSans-65\"/>\n      <path d=\"M 32.171875 -5.078125 \nQ 28.375 -14.84375 24.75 -17.8125 \nQ 21.140625 -20.796875 15.09375 -20.796875 \nL 7.90625 -20.796875 \nL 7.90625 -13.28125 \nL 13.1875 -13.28125 \nQ 16.890625 -13.28125 18.9375 -11.515625 \nQ 21 -9.765625 23.484375 -3.21875 \nL 25.09375 0.875 \nL 2.984375 54.6875 \nL 12.5 54.6875 \nL 29.59375 11.921875 \nL 46.6875 54.6875 \nL 56.203125 54.6875 \nz\n\" id=\"DejaVuSans-121\"/>\n     </defs>\n     <use xlink:href=\"#DejaVuSans-65\"/>\n     <use x=\"66.658203\" xlink:href=\"#DejaVuSans-99\"/>\n     <use x=\"121.638672\" xlink:href=\"#DejaVuSans-99\"/>\n     <use x=\"176.619141\" xlink:href=\"#DejaVuSans-117\"/>\n     <use x=\"239.998047\" xlink:href=\"#DejaVuSans-114\"/>\n     <use x=\"281.111328\" xlink:href=\"#DejaVuSans-97\"/>\n     <use x=\"342.390625\" xlink:href=\"#DejaVuSans-99\"/>\n     <use x=\"397.371094\" xlink:href=\"#DejaVuSans-121\"/>\n    </g>\n   </g>\n  </g>\n  <g id=\"legend_1\">\n   <g id=\"patch_12\">\n    <path d=\"M 902.6 66.7125 \nL 983.98125 66.7125 \nQ 985.98125 66.7125 985.98125 64.7125 \nL 985.98125 7 \nQ 985.98125 5 983.98125 5 \nL 902.6 5 \nQ 900.6 5 900.6 7 \nL 900.6 64.7125 \nQ 900.6 66.7125 902.6 66.7125 \nz\n\" style=\"fill:#ffffff;opacity:0.8;stroke:#cccccc;stroke-linejoin:miter;\"/>\n   </g>\n   <g id=\"line2d_31\">\n    <path d=\"M 904.6 13.098437 \nL 924.6 13.098437 \n\" style=\"fill:none;stroke:#1f77b4;stroke-linecap:square;stroke-width:1.5;\"/>\n   </g>\n   <g id=\"line2d_32\"/>\n   <g id=\"text_33\">\n    <!-- Train -->\n    <g transform=\"translate(932.6 16.598437)scale(0.1 -0.1)\">\n     <defs>\n      <path d=\"M -0.296875 72.90625 \nL 61.375 72.90625 \nL 61.375 64.59375 \nL 35.5 64.59375 \nL 35.5 0 \nL 25.59375 0 \nL 25.59375 64.59375 \nL -0.296875 64.59375 \nz\n\" id=\"DejaVuSans-84\"/>\n     </defs>\n     <use xlink:href=\"#DejaVuSans-84\"/>\n     <use x=\"46.333984\" xlink:href=\"#DejaVuSans-114\"/>\n     <use x=\"87.447266\" xlink:href=\"#DejaVuSans-97\"/>\n     <use x=\"148.726562\" xlink:href=\"#DejaVuSans-105\"/>\n     <use x=\"176.509766\" xlink:href=\"#DejaVuSans-110\"/>\n    </g>\n   </g>\n   <g id=\"line2d_33\">\n    <path d=\"M 904.6 27.776562 \nL 924.6 27.776562 \n\" style=\"fill:none;stroke:#ff7f0e;stroke-linecap:square;stroke-width:1.5;\"/>\n   </g>\n   <g id=\"line2d_34\"/>\n   <g id=\"text_34\">\n    <!-- Validation -->\n    <g transform=\"translate(932.6 31.276562)scale(0.1 -0.1)\">\n     <defs>\n      <path d=\"M 28.609375 0 \nL 0.78125 72.90625 \nL 11.078125 72.90625 \nL 34.1875 11.53125 \nL 57.328125 72.90625 \nL 67.578125 72.90625 \nL 39.796875 0 \nz\n\" id=\"DejaVuSans-86\"/>\n      <path d=\"M 45.40625 46.390625 \nL 45.40625 75.984375 \nL 54.390625 75.984375 \nL 54.390625 0 \nL 45.40625 0 \nL 45.40625 8.203125 \nQ 42.578125 3.328125 38.25 0.953125 \nQ 33.9375 -1.421875 27.875 -1.421875 \nQ 17.96875 -1.421875 11.734375 6.484375 \nQ 5.515625 14.40625 5.515625 27.296875 \nQ 5.515625 40.1875 11.734375 48.09375 \nQ 17.96875 56 27.875 56 \nQ 33.9375 56 38.25 53.625 \nQ 42.578125 51.265625 45.40625 46.390625 \nz\nM 14.796875 27.296875 \nQ 14.796875 17.390625 18.875 11.75 \nQ 22.953125 6.109375 30.078125 6.109375 \nQ 37.203125 6.109375 41.296875 11.75 \nQ 45.40625 17.390625 45.40625 27.296875 \nQ 45.40625 37.203125 41.296875 42.84375 \nQ 37.203125 48.484375 30.078125 48.484375 \nQ 22.953125 48.484375 18.875 42.84375 \nQ 14.796875 37.203125 14.796875 27.296875 \nz\n\" id=\"DejaVuSans-100\"/>\n     </defs>\n     <use xlink:href=\"#DejaVuSans-86\"/>\n     <use x=\"60.658203\" xlink:href=\"#DejaVuSans-97\"/>\n     <use x=\"121.9375\" xlink:href=\"#DejaVuSans-108\"/>\n     <use x=\"149.720703\" xlink:href=\"#DejaVuSans-105\"/>\n     <use x=\"177.503906\" xlink:href=\"#DejaVuSans-100\"/>\n     <use x=\"240.980469\" xlink:href=\"#DejaVuSans-97\"/>\n     <use x=\"302.259766\" xlink:href=\"#DejaVuSans-116\"/>\n     <use x=\"341.46875\" xlink:href=\"#DejaVuSans-105\"/>\n     <use x=\"369.251953\" xlink:href=\"#DejaVuSans-111\"/>\n     <use x=\"430.433594\" xlink:href=\"#DejaVuSans-110\"/>\n    </g>\n   </g>\n   <g id=\"line2d_35\">\n    <path d=\"M 904.6 42.454687 \nL 924.6 42.454687 \n\" style=\"fill:none;stroke:#1f77b4;stroke-linecap:square;stroke-width:1.5;\"/>\n   </g>\n   <g id=\"line2d_36\"/>\n   <g id=\"text_35\">\n    <!-- Train -->\n    <g transform=\"translate(932.6 45.954687)scale(0.1 -0.1)\">\n     <use xlink:href=\"#DejaVuSans-84\"/>\n     <use x=\"46.333984\" xlink:href=\"#DejaVuSans-114\"/>\n     <use x=\"87.447266\" xlink:href=\"#DejaVuSans-97\"/>\n     <use x=\"148.726562\" xlink:href=\"#DejaVuSans-105\"/>\n     <use x=\"176.509766\" xlink:href=\"#DejaVuSans-110\"/>\n    </g>\n   </g>\n   <g id=\"line2d_37\">\n    <path d=\"M 904.6 57.132812 \nL 924.6 57.132812 \n\" style=\"fill:none;stroke:#ff7f0e;stroke-linecap:square;stroke-width:1.5;\"/>\n   </g>\n   <g id=\"line2d_38\"/>\n   <g id=\"text_36\">\n    <!-- Validation -->\n    <g transform=\"translate(932.6 60.632812)scale(0.1 -0.1)\">\n     <use xlink:href=\"#DejaVuSans-86\"/>\n     <use x=\"60.658203\" xlink:href=\"#DejaVuSans-97\"/>\n     <use x=\"121.9375\" xlink:href=\"#DejaVuSans-108\"/>\n     <use x=\"149.720703\" xlink:href=\"#DejaVuSans-105\"/>\n     <use x=\"177.503906\" xlink:href=\"#DejaVuSans-100\"/>\n     <use x=\"240.980469\" xlink:href=\"#DejaVuSans-97\"/>\n     <use x=\"302.259766\" xlink:href=\"#DejaVuSans-116\"/>\n     <use x=\"341.46875\" xlink:href=\"#DejaVuSans-105\"/>\n     <use x=\"369.251953\" xlink:href=\"#DejaVuSans-111\"/>\n     <use x=\"430.433594\" xlink:href=\"#DejaVuSans-110\"/>\n    </g>\n   </g>\n  </g>\n </g>\n <defs>\n  <clipPath id=\"p86a2d98052\">\n   <rect height=\"815.4\" width=\"380.454545\" x=\"43.78125\" y=\"131.8\"/>\n  </clipPath>\n  <clipPath id=\"pd0edb8de1e\">\n   <rect height=\"815.4\" width=\"380.454545\" x=\"500.326705\" y=\"131.8\"/>\n  </clipPath>\n </defs>\n</svg>\n",
      "image/png": "[encoded data removed]"
     },
     "metadata": {
      "needs_background": "light"
     }
    }
   ],
   "source": [
    "data_set = {\n",
    "    'train_data': X_train[20000:30000],\n",
    "    'train_label': y_train[20000:30000],\n",
    "    'val_data':X_val,\n",
    "    'val_label':y_val,\n",
    "}\n",
    "train_options = {\n",
    "    'optimizer': 'adam',\n",
    "    'lr': 0.001,\n",
    "    'epoch_num': 1,\n",
    "    'from_logits':True,\n",
    "    'save_dir': 'resnet20_model',\n",
    "}\n",
    "wl_agent.restore_model_weight()\n",
    "print('full model test acc: {}'.format(fl_agent.model_accuracy()))\n",
    "wl_agent.wl_list.load('wlfl_list.txt')\n",
    "fl_agent.apply_wlfl_to_layers(wl_agent.quantize_layers,wl_agent.wl_list)\n",
    "print('quantized model test acc: {}'.format(fl_agent.model_accuracy()))\n",
    "solver = Solver(model_q,data_set,options=train_options,save_model=False)\n",
    "solver.train()\n"
   ]
  },
  {
   "cell_type": "code",
   "execution_count": 555,
   "metadata": {},
   "outputs": [
    {
     "output_type": "stream",
     "name": "stdout",
     "text": [
      "quantize model acc after retrain: 0.6927000284194946\n",
      "qunatize_model acc before retrain:0.6678000092506409\n"
     ]
    }
   ],
   "source": [
    "\n",
    "wl_agent.wl_list.load('wlfl_list.txt')\n",
    "fl_agent.apply_wlfl_to_layers(wl_agent.quantize_layers,wl_agent.wl_list)\n",
    "print('quantize model acc after retrain: {}'.format(fl_agent.model_accuracy()))\n",
    "wl_agent.restore_model_weight()\n",
    "\n",
    "fl_agent.apply_wlfl_to_layers(wl_agent.quantize_layers,wl_agent.wl_list)\n",
    "print('qunatize_model acc before retrain:{}'.format(fl_agent.model_accuracy()))\n",
    "\n",
    "\n",
    "\n"
   ]
  }
 ]
}